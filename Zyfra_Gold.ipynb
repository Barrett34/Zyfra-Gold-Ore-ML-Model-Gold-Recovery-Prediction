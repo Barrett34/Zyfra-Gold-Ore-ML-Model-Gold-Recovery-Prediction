{
 "cells": [
  {
   "cell_type": "markdown",
   "metadata": {},
   "source": [
    "# Zyfra Gold Ore Machine Learning Model"
   ]
  },
  {
   "cell_type": "markdown",
   "metadata": {},
   "source": [
    "# Introduction: \n",
    "\n",
    "In this project we are creating a machine learning model for the company Zyfra. The company creates efficient solutions for heavy industry. The model will predict how much gold can be recovered from a gold ore. The model's goal is to aid the optimization of production and the elimination of unprofitable parameters."
   ]
  },
  {
   "cell_type": "code",
   "execution_count": 59,
   "metadata": {},
   "outputs": [],
   "source": [
    "import pandas as pd\n",
    "import numpy as np\n",
    "import matplotlib.pyplot as plt\n",
    "import seaborn as sns\n",
    "from sklearn.metrics import fbeta_score, make_scorer\n",
    "from sklearn.dummy import DummyRegressor\n",
    "from sklearn.ensemble import RandomForestRegressor\n",
    "from sklearn.linear_model import LinearRegression\n",
    "from sklearn.metrics import mean_absolute_error\n",
    "from sklearn.model_selection import cross_val_score, KFold, StratifiedKFold\n",
    "from sklearn.preprocessing import StandardScaler\n",
    "from sklearn.tree import DecisionTreeRegressor\n",
    "import warnings\n",
    "warnings.filterwarnings(\"ignore\")"
   ]
  },
  {
   "cell_type": "code",
   "execution_count": 60,
   "metadata": {},
   "outputs": [],
   "source": [
    "train_df = pd.read_csv('/datasets/gold_recovery_train.csv')\n",
    "test_df = pd.read_csv('/datasets/gold_recovery_test.csv')\n",
    "full_df = pd.read_csv('/datasets/gold_recovery_full.csv')"
   ]
  },
  {
   "cell_type": "markdown",
   "metadata": {},
   "source": [
    "## Data Preperation"
   ]
  },
  {
   "cell_type": "code",
   "execution_count": 61,
   "metadata": {},
   "outputs": [
    {
     "name": "stdout",
     "output_type": "stream",
     "text": [
      "<class 'pandas.core.frame.DataFrame'>\n",
      "RangeIndex: 16860 entries, 0 to 16859\n",
      "Data columns (total 87 columns):\n",
      " #   Column                                              Non-Null Count  Dtype  \n",
      "---  ------                                              --------------  -----  \n",
      " 0   date                                                16860 non-null  object \n",
      " 1   final.output.concentrate_ag                         16788 non-null  float64\n",
      " 2   final.output.concentrate_pb                         16788 non-null  float64\n",
      " 3   final.output.concentrate_sol                        16490 non-null  float64\n",
      " 4   final.output.concentrate_au                         16789 non-null  float64\n",
      " 5   final.output.recovery                               15339 non-null  float64\n",
      " 6   final.output.tail_ag                                16794 non-null  float64\n",
      " 7   final.output.tail_pb                                16677 non-null  float64\n",
      " 8   final.output.tail_sol                               16715 non-null  float64\n",
      " 9   final.output.tail_au                                16794 non-null  float64\n",
      " 10  primary_cleaner.input.sulfate                       15553 non-null  float64\n",
      " 11  primary_cleaner.input.depressant                    15598 non-null  float64\n",
      " 12  primary_cleaner.input.feed_size                     16860 non-null  float64\n",
      " 13  primary_cleaner.input.xanthate                      15875 non-null  float64\n",
      " 14  primary_cleaner.output.concentrate_ag               16778 non-null  float64\n",
      " 15  primary_cleaner.output.concentrate_pb               16502 non-null  float64\n",
      " 16  primary_cleaner.output.concentrate_sol              16224 non-null  float64\n",
      " 17  primary_cleaner.output.concentrate_au               16778 non-null  float64\n",
      " 18  primary_cleaner.output.tail_ag                      16777 non-null  float64\n",
      " 19  primary_cleaner.output.tail_pb                      16761 non-null  float64\n",
      " 20  primary_cleaner.output.tail_sol                     16579 non-null  float64\n",
      " 21  primary_cleaner.output.tail_au                      16777 non-null  float64\n",
      " 22  primary_cleaner.state.floatbank8_a_air              16820 non-null  float64\n",
      " 23  primary_cleaner.state.floatbank8_a_level            16827 non-null  float64\n",
      " 24  primary_cleaner.state.floatbank8_b_air              16820 non-null  float64\n",
      " 25  primary_cleaner.state.floatbank8_b_level            16833 non-null  float64\n",
      " 26  primary_cleaner.state.floatbank8_c_air              16822 non-null  float64\n",
      " 27  primary_cleaner.state.floatbank8_c_level            16833 non-null  float64\n",
      " 28  primary_cleaner.state.floatbank8_d_air              16821 non-null  float64\n",
      " 29  primary_cleaner.state.floatbank8_d_level            16833 non-null  float64\n",
      " 30  rougher.calculation.sulfate_to_au_concentrate       16833 non-null  float64\n",
      " 31  rougher.calculation.floatbank10_sulfate_to_au_feed  16833 non-null  float64\n",
      " 32  rougher.calculation.floatbank11_sulfate_to_au_feed  16833 non-null  float64\n",
      " 33  rougher.calculation.au_pb_ratio                     15618 non-null  float64\n",
      " 34  rougher.input.feed_ag                               16778 non-null  float64\n",
      " 35  rougher.input.feed_pb                               16632 non-null  float64\n",
      " 36  rougher.input.feed_rate                             16347 non-null  float64\n",
      " 37  rougher.input.feed_size                             16443 non-null  float64\n",
      " 38  rougher.input.feed_sol                              16568 non-null  float64\n",
      " 39  rougher.input.feed_au                               16777 non-null  float64\n",
      " 40  rougher.input.floatbank10_sulfate                   15816 non-null  float64\n",
      " 41  rougher.input.floatbank10_xanthate                  16514 non-null  float64\n",
      " 42  rougher.input.floatbank11_sulfate                   16237 non-null  float64\n",
      " 43  rougher.input.floatbank11_xanthate                  14956 non-null  float64\n",
      " 44  rougher.output.concentrate_ag                       16778 non-null  float64\n",
      " 45  rougher.output.concentrate_pb                       16778 non-null  float64\n",
      " 46  rougher.output.concentrate_sol                      16698 non-null  float64\n",
      " 47  rougher.output.concentrate_au                       16778 non-null  float64\n",
      " 48  rougher.output.recovery                             14287 non-null  float64\n",
      " 49  rougher.output.tail_ag                              14610 non-null  float64\n",
      " 50  rougher.output.tail_pb                              16778 non-null  float64\n",
      " 51  rougher.output.tail_sol                             14611 non-null  float64\n",
      " 52  rougher.output.tail_au                              14611 non-null  float64\n",
      " 53  rougher.state.floatbank10_a_air                     16807 non-null  float64\n",
      " 54  rougher.state.floatbank10_a_level                   16807 non-null  float64\n",
      " 55  rougher.state.floatbank10_b_air                     16807 non-null  float64\n",
      " 56  rougher.state.floatbank10_b_level                   16807 non-null  float64\n",
      " 57  rougher.state.floatbank10_c_air                     16807 non-null  float64\n",
      " 58  rougher.state.floatbank10_c_level                   16814 non-null  float64\n",
      " 59  rougher.state.floatbank10_d_air                     16802 non-null  float64\n",
      " 60  rougher.state.floatbank10_d_level                   16809 non-null  float64\n",
      " 61  rougher.state.floatbank10_e_air                     16257 non-null  float64\n",
      " 62  rougher.state.floatbank10_e_level                   16809 non-null  float64\n",
      " 63  rougher.state.floatbank10_f_air                     16802 non-null  float64\n",
      " 64  rougher.state.floatbank10_f_level                   16802 non-null  float64\n",
      " 65  secondary_cleaner.output.tail_ag                    16776 non-null  float64\n",
      " 66  secondary_cleaner.output.tail_pb                    16764 non-null  float64\n",
      " 67  secondary_cleaner.output.tail_sol                   14874 non-null  float64\n",
      " 68  secondary_cleaner.output.tail_au                    16778 non-null  float64\n",
      " 69  secondary_cleaner.state.floatbank2_a_air            16497 non-null  float64\n",
      " 70  secondary_cleaner.state.floatbank2_a_level          16751 non-null  float64\n",
      " 71  secondary_cleaner.state.floatbank2_b_air            16705 non-null  float64\n",
      " 72  secondary_cleaner.state.floatbank2_b_level          16748 non-null  float64\n",
      " 73  secondary_cleaner.state.floatbank3_a_air            16763 non-null  float64\n",
      " 74  secondary_cleaner.state.floatbank3_a_level          16747 non-null  float64\n",
      " 75  secondary_cleaner.state.floatbank3_b_air            16752 non-null  float64\n",
      " 76  secondary_cleaner.state.floatbank3_b_level          16750 non-null  float64\n",
      " 77  secondary_cleaner.state.floatbank4_a_air            16731 non-null  float64\n",
      " 78  secondary_cleaner.state.floatbank4_a_level          16747 non-null  float64\n",
      " 79  secondary_cleaner.state.floatbank4_b_air            16768 non-null  float64\n",
      " 80  secondary_cleaner.state.floatbank4_b_level          16767 non-null  float64\n",
      " 81  secondary_cleaner.state.floatbank5_a_air            16775 non-null  float64\n",
      " 82  secondary_cleaner.state.floatbank5_a_level          16775 non-null  float64\n",
      " 83  secondary_cleaner.state.floatbank5_b_air            16775 non-null  float64\n",
      " 84  secondary_cleaner.state.floatbank5_b_level          16776 non-null  float64\n",
      " 85  secondary_cleaner.state.floatbank6_a_air            16757 non-null  float64\n",
      " 86  secondary_cleaner.state.floatbank6_a_level          16775 non-null  float64\n",
      "dtypes: float64(86), object(1)\n",
      "memory usage: 11.2+ MB\n"
     ]
    }
   ],
   "source": [
    "train_df.info()"
   ]
  },
  {
   "cell_type": "code",
   "execution_count": 62,
   "metadata": {},
   "outputs": [],
   "source": [
    "#creating a function for displaying the main information about datasets:\n",
    "def info_df(df):\n",
    "    print('DataFrame:')\n",
    "    display(df.head())\n",
    "    print('------------------------------------------------------------------------------------------')\n",
    "    print('Info:')\n",
    "    print('')\n",
    "    print(df.info())\n",
    "    print('------------------------------------------------------------------------------------------')\n",
    "    print('Shape')\n",
    "    print('')\n",
    "    display(df.shape)"
   ]
  },
  {
   "cell_type": "code",
   "execution_count": 63,
   "metadata": {},
   "outputs": [
    {
     "name": "stdout",
     "output_type": "stream",
     "text": [
      "<class 'pandas.core.frame.DataFrame'>\n",
      "RangeIndex: 5856 entries, 0 to 5855\n",
      "Data columns (total 53 columns):\n",
      " #   Column                                      Non-Null Count  Dtype  \n",
      "---  ------                                      --------------  -----  \n",
      " 0   date                                        5856 non-null   object \n",
      " 1   primary_cleaner.input.sulfate               5554 non-null   float64\n",
      " 2   primary_cleaner.input.depressant            5572 non-null   float64\n",
      " 3   primary_cleaner.input.feed_size             5856 non-null   float64\n",
      " 4   primary_cleaner.input.xanthate              5690 non-null   float64\n",
      " 5   primary_cleaner.state.floatbank8_a_air      5840 non-null   float64\n",
      " 6   primary_cleaner.state.floatbank8_a_level    5840 non-null   float64\n",
      " 7   primary_cleaner.state.floatbank8_b_air      5840 non-null   float64\n",
      " 8   primary_cleaner.state.floatbank8_b_level    5840 non-null   float64\n",
      " 9   primary_cleaner.state.floatbank8_c_air      5840 non-null   float64\n",
      " 10  primary_cleaner.state.floatbank8_c_level    5840 non-null   float64\n",
      " 11  primary_cleaner.state.floatbank8_d_air      5840 non-null   float64\n",
      " 12  primary_cleaner.state.floatbank8_d_level    5840 non-null   float64\n",
      " 13  rougher.input.feed_ag                       5840 non-null   float64\n",
      " 14  rougher.input.feed_pb                       5840 non-null   float64\n",
      " 15  rougher.input.feed_rate                     5816 non-null   float64\n",
      " 16  rougher.input.feed_size                     5834 non-null   float64\n",
      " 17  rougher.input.feed_sol                      5789 non-null   float64\n",
      " 18  rougher.input.feed_au                       5840 non-null   float64\n",
      " 19  rougher.input.floatbank10_sulfate           5599 non-null   float64\n",
      " 20  rougher.input.floatbank10_xanthate          5733 non-null   float64\n",
      " 21  rougher.input.floatbank11_sulfate           5801 non-null   float64\n",
      " 22  rougher.input.floatbank11_xanthate          5503 non-null   float64\n",
      " 23  rougher.state.floatbank10_a_air             5839 non-null   float64\n",
      " 24  rougher.state.floatbank10_a_level           5840 non-null   float64\n",
      " 25  rougher.state.floatbank10_b_air             5839 non-null   float64\n",
      " 26  rougher.state.floatbank10_b_level           5840 non-null   float64\n",
      " 27  rougher.state.floatbank10_c_air             5839 non-null   float64\n",
      " 28  rougher.state.floatbank10_c_level           5840 non-null   float64\n",
      " 29  rougher.state.floatbank10_d_air             5839 non-null   float64\n",
      " 30  rougher.state.floatbank10_d_level           5840 non-null   float64\n",
      " 31  rougher.state.floatbank10_e_air             5839 non-null   float64\n",
      " 32  rougher.state.floatbank10_e_level           5840 non-null   float64\n",
      " 33  rougher.state.floatbank10_f_air             5839 non-null   float64\n",
      " 34  rougher.state.floatbank10_f_level           5840 non-null   float64\n",
      " 35  secondary_cleaner.state.floatbank2_a_air    5836 non-null   float64\n",
      " 36  secondary_cleaner.state.floatbank2_a_level  5840 non-null   float64\n",
      " 37  secondary_cleaner.state.floatbank2_b_air    5833 non-null   float64\n",
      " 38  secondary_cleaner.state.floatbank2_b_level  5840 non-null   float64\n",
      " 39  secondary_cleaner.state.floatbank3_a_air    5822 non-null   float64\n",
      " 40  secondary_cleaner.state.floatbank3_a_level  5840 non-null   float64\n",
      " 41  secondary_cleaner.state.floatbank3_b_air    5840 non-null   float64\n",
      " 42  secondary_cleaner.state.floatbank3_b_level  5840 non-null   float64\n",
      " 43  secondary_cleaner.state.floatbank4_a_air    5840 non-null   float64\n",
      " 44  secondary_cleaner.state.floatbank4_a_level  5840 non-null   float64\n",
      " 45  secondary_cleaner.state.floatbank4_b_air    5840 non-null   float64\n",
      " 46  secondary_cleaner.state.floatbank4_b_level  5840 non-null   float64\n",
      " 47  secondary_cleaner.state.floatbank5_a_air    5840 non-null   float64\n",
      " 48  secondary_cleaner.state.floatbank5_a_level  5840 non-null   float64\n",
      " 49  secondary_cleaner.state.floatbank5_b_air    5840 non-null   float64\n",
      " 50  secondary_cleaner.state.floatbank5_b_level  5840 non-null   float64\n",
      " 51  secondary_cleaner.state.floatbank6_a_air    5840 non-null   float64\n",
      " 52  secondary_cleaner.state.floatbank6_a_level  5840 non-null   float64\n",
      "dtypes: float64(52), object(1)\n",
      "memory usage: 2.4+ MB\n"
     ]
    }
   ],
   "source": [
    "test_df.info()"
   ]
  },
  {
   "cell_type": "code",
   "execution_count": 64,
   "metadata": {},
   "outputs": [
    {
     "name": "stdout",
     "output_type": "stream",
     "text": [
      "<class 'pandas.core.frame.DataFrame'>\n",
      "RangeIndex: 22716 entries, 0 to 22715\n",
      "Data columns (total 87 columns):\n",
      " #   Column                                              Non-Null Count  Dtype  \n",
      "---  ------                                              --------------  -----  \n",
      " 0   date                                                22716 non-null  object \n",
      " 1   final.output.concentrate_ag                         22627 non-null  float64\n",
      " 2   final.output.concentrate_pb                         22629 non-null  float64\n",
      " 3   final.output.concentrate_sol                        22331 non-null  float64\n",
      " 4   final.output.concentrate_au                         22630 non-null  float64\n",
      " 5   final.output.recovery                               20753 non-null  float64\n",
      " 6   final.output.tail_ag                                22633 non-null  float64\n",
      " 7   final.output.tail_pb                                22516 non-null  float64\n",
      " 8   final.output.tail_sol                               22445 non-null  float64\n",
      " 9   final.output.tail_au                                22635 non-null  float64\n",
      " 10  primary_cleaner.input.sulfate                       21107 non-null  float64\n",
      " 11  primary_cleaner.input.depressant                    21170 non-null  float64\n",
      " 12  primary_cleaner.input.feed_size                     22716 non-null  float64\n",
      " 13  primary_cleaner.input.xanthate                      21565 non-null  float64\n",
      " 14  primary_cleaner.output.concentrate_ag               22618 non-null  float64\n",
      " 15  primary_cleaner.output.concentrate_pb               22268 non-null  float64\n",
      " 16  primary_cleaner.output.concentrate_sol              21918 non-null  float64\n",
      " 17  primary_cleaner.output.concentrate_au               22618 non-null  float64\n",
      " 18  primary_cleaner.output.tail_ag                      22614 non-null  float64\n",
      " 19  primary_cleaner.output.tail_pb                      22594 non-null  float64\n",
      " 20  primary_cleaner.output.tail_sol                     22365 non-null  float64\n",
      " 21  primary_cleaner.output.tail_au                      22617 non-null  float64\n",
      " 22  primary_cleaner.state.floatbank8_a_air              22660 non-null  float64\n",
      " 23  primary_cleaner.state.floatbank8_a_level            22667 non-null  float64\n",
      " 24  primary_cleaner.state.floatbank8_b_air              22660 non-null  float64\n",
      " 25  primary_cleaner.state.floatbank8_b_level            22673 non-null  float64\n",
      " 26  primary_cleaner.state.floatbank8_c_air              22662 non-null  float64\n",
      " 27  primary_cleaner.state.floatbank8_c_level            22673 non-null  float64\n",
      " 28  primary_cleaner.state.floatbank8_d_air              22661 non-null  float64\n",
      " 29  primary_cleaner.state.floatbank8_d_level            22673 non-null  float64\n",
      " 30  rougher.calculation.sulfate_to_au_concentrate       22672 non-null  float64\n",
      " 31  rougher.calculation.floatbank10_sulfate_to_au_feed  22672 non-null  float64\n",
      " 32  rougher.calculation.floatbank11_sulfate_to_au_feed  22672 non-null  float64\n",
      " 33  rougher.calculation.au_pb_ratio                     21089 non-null  float64\n",
      " 34  rougher.input.feed_ag                               22618 non-null  float64\n",
      " 35  rougher.input.feed_pb                               22472 non-null  float64\n",
      " 36  rougher.input.feed_rate                             22163 non-null  float64\n",
      " 37  rougher.input.feed_size                             22277 non-null  float64\n",
      " 38  rougher.input.feed_sol                              22357 non-null  float64\n",
      " 39  rougher.input.feed_au                               22617 non-null  float64\n",
      " 40  rougher.input.floatbank10_sulfate                   21415 non-null  float64\n",
      " 41  rougher.input.floatbank10_xanthate                  22247 non-null  float64\n",
      " 42  rougher.input.floatbank11_sulfate                   22038 non-null  float64\n",
      " 43  rougher.input.floatbank11_xanthate                  20459 non-null  float64\n",
      " 44  rougher.output.concentrate_ag                       22618 non-null  float64\n",
      " 45  rougher.output.concentrate_pb                       22618 non-null  float64\n",
      " 46  rougher.output.concentrate_sol                      22526 non-null  float64\n",
      " 47  rougher.output.concentrate_au                       22618 non-null  float64\n",
      " 48  rougher.output.recovery                             19597 non-null  float64\n",
      " 49  rougher.output.tail_ag                              19979 non-null  float64\n",
      " 50  rougher.output.tail_pb                              22618 non-null  float64\n",
      " 51  rougher.output.tail_sol                             19980 non-null  float64\n",
      " 52  rougher.output.tail_au                              19980 non-null  float64\n",
      " 53  rougher.state.floatbank10_a_air                     22646 non-null  float64\n",
      " 54  rougher.state.floatbank10_a_level                   22647 non-null  float64\n",
      " 55  rougher.state.floatbank10_b_air                     22646 non-null  float64\n",
      " 56  rougher.state.floatbank10_b_level                   22647 non-null  float64\n",
      " 57  rougher.state.floatbank10_c_air                     22646 non-null  float64\n",
      " 58  rougher.state.floatbank10_c_level                   22654 non-null  float64\n",
      " 59  rougher.state.floatbank10_d_air                     22641 non-null  float64\n",
      " 60  rougher.state.floatbank10_d_level                   22649 non-null  float64\n",
      " 61  rougher.state.floatbank10_e_air                     22096 non-null  float64\n",
      " 62  rougher.state.floatbank10_e_level                   22649 non-null  float64\n",
      " 63  rougher.state.floatbank10_f_air                     22641 non-null  float64\n",
      " 64  rougher.state.floatbank10_f_level                   22642 non-null  float64\n",
      " 65  secondary_cleaner.output.tail_ag                    22616 non-null  float64\n",
      " 66  secondary_cleaner.output.tail_pb                    22600 non-null  float64\n",
      " 67  secondary_cleaner.output.tail_sol                   20501 non-null  float64\n",
      " 68  secondary_cleaner.output.tail_au                    22618 non-null  float64\n",
      " 69  secondary_cleaner.state.floatbank2_a_air            22333 non-null  float64\n",
      " 70  secondary_cleaner.state.floatbank2_a_level          22591 non-null  float64\n",
      " 71  secondary_cleaner.state.floatbank2_b_air            22538 non-null  float64\n",
      " 72  secondary_cleaner.state.floatbank2_b_level          22588 non-null  float64\n",
      " 73  secondary_cleaner.state.floatbank3_a_air            22585 non-null  float64\n",
      " 74  secondary_cleaner.state.floatbank3_a_level          22587 non-null  float64\n",
      " 75  secondary_cleaner.state.floatbank3_b_air            22592 non-null  float64\n",
      " 76  secondary_cleaner.state.floatbank3_b_level          22590 non-null  float64\n",
      " 77  secondary_cleaner.state.floatbank4_a_air            22571 non-null  float64\n",
      " 78  secondary_cleaner.state.floatbank4_a_level          22587 non-null  float64\n",
      " 79  secondary_cleaner.state.floatbank4_b_air            22608 non-null  float64\n",
      " 80  secondary_cleaner.state.floatbank4_b_level          22607 non-null  float64\n",
      " 81  secondary_cleaner.state.floatbank5_a_air            22615 non-null  float64\n",
      " 82  secondary_cleaner.state.floatbank5_a_level          22615 non-null  float64\n",
      " 83  secondary_cleaner.state.floatbank5_b_air            22615 non-null  float64\n",
      " 84  secondary_cleaner.state.floatbank5_b_level          22616 non-null  float64\n",
      " 85  secondary_cleaner.state.floatbank6_a_air            22597 non-null  float64\n",
      " 86  secondary_cleaner.state.floatbank6_a_level          22615 non-null  float64\n",
      "dtypes: float64(86), object(1)\n",
      "memory usage: 15.1+ MB\n"
     ]
    }
   ],
   "source": [
    "full_df.info()"
   ]
  },
  {
   "cell_type": "markdown",
   "metadata": {},
   "source": [
    "- Training dataset has 87 columns with 16,860 rows. There appears to be missing values in some columns.\n",
    "- Test data set has 53 columns and 5853 rows. There appears to be missing values in some columns.\n",
    "- Full dataset has 87 columns with 22,716 rows. There appears to be missing values in some columns.\n",
    "- Each dataframe has the incorrect type for the `date` column.\n",
    "- Our targets are `rougher.output.recovery` and `final.output.recovery`"
   ]
  },
  {
   "cell_type": "markdown",
   "metadata": {},
   "source": [
    "## Check if Recovery is Calculated Correctly"
   ]
  },
  {
   "cell_type": "code",
   "execution_count": 65,
   "metadata": {},
   "outputs": [],
   "source": [
    "def calc_recovery(c, f, t):\n",
    "    recovery = ((c * (f - t)) / (f * (c - t))) * 100\n",
    "    recovery[recovery < 0] = np.nan\n",
    "    recovery[recovery > 100] = np.nan\n",
    "    return recovery"
   ]
  },
  {
   "cell_type": "code",
   "execution_count": 66,
   "metadata": {},
   "outputs": [],
   "source": [
    "train_df['rougher.output.calc'] = calc_recovery(train_df['rougher.output.concentrate_au'],\n",
    "           train_df['rougher.input.feed_au'], train_df['rougher.output.tail_au'])"
   ]
  },
  {
   "cell_type": "code",
   "execution_count": 67,
   "metadata": {},
   "outputs": [
    {
     "data": {
      "text/html": [
       "<div>\n",
       "<style scoped>\n",
       "    .dataframe tbody tr th:only-of-type {\n",
       "        vertical-align: middle;\n",
       "    }\n",
       "\n",
       "    .dataframe tbody tr th {\n",
       "        vertical-align: top;\n",
       "    }\n",
       "\n",
       "    .dataframe thead th {\n",
       "        text-align: right;\n",
       "    }\n",
       "</style>\n",
       "<table border=\"1\" class=\"dataframe\">\n",
       "  <thead>\n",
       "    <tr style=\"text-align: right;\">\n",
       "      <th></th>\n",
       "      <th>rougher.output.recovery</th>\n",
       "      <th>rougher.output.calc</th>\n",
       "    </tr>\n",
       "  </thead>\n",
       "  <tbody>\n",
       "    <tr>\n",
       "      <th>0</th>\n",
       "      <td>87.107763</td>\n",
       "      <td>87.107763</td>\n",
       "    </tr>\n",
       "    <tr>\n",
       "      <th>1</th>\n",
       "      <td>86.843261</td>\n",
       "      <td>86.843261</td>\n",
       "    </tr>\n",
       "    <tr>\n",
       "      <th>2</th>\n",
       "      <td>86.842308</td>\n",
       "      <td>86.842308</td>\n",
       "    </tr>\n",
       "    <tr>\n",
       "      <th>3</th>\n",
       "      <td>87.226430</td>\n",
       "      <td>87.226430</td>\n",
       "    </tr>\n",
       "    <tr>\n",
       "      <th>4</th>\n",
       "      <td>86.688794</td>\n",
       "      <td>86.688794</td>\n",
       "    </tr>\n",
       "  </tbody>\n",
       "</table>\n",
       "</div>"
      ],
      "text/plain": [
       "   rougher.output.recovery  rougher.output.calc\n",
       "0                87.107763            87.107763\n",
       "1                86.843261            86.843261\n",
       "2                86.842308            86.842308\n",
       "3                87.226430            87.226430\n",
       "4                86.688794            86.688794"
      ]
     },
     "execution_count": 67,
     "metadata": {},
     "output_type": "execute_result"
    }
   ],
   "source": [
    "train_df[['rougher.output.recovery', 'rougher.output.calc']].head()"
   ]
  },
  {
   "cell_type": "code",
   "execution_count": 68,
   "metadata": {},
   "outputs": [],
   "source": [
    "# fill na with 0 for MAE\n",
    "train_df['rougher.output.recovery'].fillna(method='bfill', inplace=True)\n",
    "train_df['rougher.output.calc'].fillna(method='bfill', inplace=True)"
   ]
  },
  {
   "cell_type": "code",
   "execution_count": 69,
   "metadata": {},
   "outputs": [
    {
     "data": {
      "text/plain": [
       "9.371717847524153e-15"
      ]
     },
     "execution_count": 69,
     "metadata": {},
     "output_type": "execute_result"
    }
   ],
   "source": [
    "mean_absolute_error(train_df['rougher.output.recovery'], train_df['rougher.output.calc'])"
   ]
  },
  {
   "cell_type": "markdown",
   "metadata": {},
   "source": [
    "The MAE value being low confirms that the recovery calculations are correct."
   ]
  },
  {
   "cell_type": "markdown",
   "metadata": {},
   "source": [
    "## Analyzing features not in the Test Set"
   ]
  },
  {
   "cell_type": "code",
   "execution_count": 70,
   "metadata": {},
   "outputs": [],
   "source": [
    "test_columns = test_df.columns\n",
    "non_test_columns = full_df.drop(test_columns, axis=1)"
   ]
  },
  {
   "cell_type": "code",
   "execution_count": 71,
   "metadata": {},
   "outputs": [],
   "source": [
    "test_df = test_df.merge(full_df[['date', 'rougher.output.recovery', 'final.output.recovery']], \n",
    "                           how = 'left', on = 'date')"
   ]
  },
  {
   "cell_type": "code",
   "execution_count": 72,
   "metadata": {},
   "outputs": [
    {
     "name": "stdout",
     "output_type": "stream",
     "text": [
      "DataFrame:\n"
     ]
    },
    {
     "data": {
      "text/html": [
       "<div>\n",
       "<style scoped>\n",
       "    .dataframe tbody tr th:only-of-type {\n",
       "        vertical-align: middle;\n",
       "    }\n",
       "\n",
       "    .dataframe tbody tr th {\n",
       "        vertical-align: top;\n",
       "    }\n",
       "\n",
       "    .dataframe thead th {\n",
       "        text-align: right;\n",
       "    }\n",
       "</style>\n",
       "<table border=\"1\" class=\"dataframe\">\n",
       "  <thead>\n",
       "    <tr style=\"text-align: right;\">\n",
       "      <th></th>\n",
       "      <th>final.output.concentrate_ag</th>\n",
       "      <th>final.output.concentrate_pb</th>\n",
       "      <th>final.output.concentrate_sol</th>\n",
       "      <th>final.output.concentrate_au</th>\n",
       "      <th>final.output.recovery</th>\n",
       "      <th>final.output.tail_ag</th>\n",
       "      <th>final.output.tail_pb</th>\n",
       "      <th>final.output.tail_sol</th>\n",
       "      <th>final.output.tail_au</th>\n",
       "      <th>primary_cleaner.output.concentrate_ag</th>\n",
       "      <th>...</th>\n",
       "      <th>rougher.output.concentrate_au</th>\n",
       "      <th>rougher.output.recovery</th>\n",
       "      <th>rougher.output.tail_ag</th>\n",
       "      <th>rougher.output.tail_pb</th>\n",
       "      <th>rougher.output.tail_sol</th>\n",
       "      <th>rougher.output.tail_au</th>\n",
       "      <th>secondary_cleaner.output.tail_ag</th>\n",
       "      <th>secondary_cleaner.output.tail_pb</th>\n",
       "      <th>secondary_cleaner.output.tail_sol</th>\n",
       "      <th>secondary_cleaner.output.tail_au</th>\n",
       "    </tr>\n",
       "  </thead>\n",
       "  <tbody>\n",
       "    <tr>\n",
       "      <th>0</th>\n",
       "      <td>6.055403</td>\n",
       "      <td>9.889648</td>\n",
       "      <td>5.507324</td>\n",
       "      <td>42.192020</td>\n",
       "      <td>70.541216</td>\n",
       "      <td>10.411962</td>\n",
       "      <td>0.895447</td>\n",
       "      <td>16.904297</td>\n",
       "      <td>2.143149</td>\n",
       "      <td>8.547551</td>\n",
       "      <td>...</td>\n",
       "      <td>19.793808</td>\n",
       "      <td>87.107763</td>\n",
       "      <td>5.008018</td>\n",
       "      <td>0.508728</td>\n",
       "      <td>19.154297</td>\n",
       "      <td>1.170244</td>\n",
       "      <td>14.500184</td>\n",
       "      <td>4.694824</td>\n",
       "      <td>8.764648</td>\n",
       "      <td>2.606185</td>\n",
       "    </tr>\n",
       "    <tr>\n",
       "      <th>1</th>\n",
       "      <td>6.029369</td>\n",
       "      <td>9.968944</td>\n",
       "      <td>5.257781</td>\n",
       "      <td>42.701629</td>\n",
       "      <td>69.266198</td>\n",
       "      <td>10.462676</td>\n",
       "      <td>0.927452</td>\n",
       "      <td>16.634514</td>\n",
       "      <td>2.224930</td>\n",
       "      <td>8.558743</td>\n",
       "      <td>...</td>\n",
       "      <td>20.050975</td>\n",
       "      <td>86.843261</td>\n",
       "      <td>4.955378</td>\n",
       "      <td>0.536689</td>\n",
       "      <td>18.965234</td>\n",
       "      <td>1.184827</td>\n",
       "      <td>14.265474</td>\n",
       "      <td>4.592547</td>\n",
       "      <td>9.001494</td>\n",
       "      <td>2.488248</td>\n",
       "    </tr>\n",
       "    <tr>\n",
       "      <th>2</th>\n",
       "      <td>6.055926</td>\n",
       "      <td>10.213995</td>\n",
       "      <td>5.383759</td>\n",
       "      <td>42.657501</td>\n",
       "      <td>68.116445</td>\n",
       "      <td>10.507046</td>\n",
       "      <td>0.953716</td>\n",
       "      <td>16.208849</td>\n",
       "      <td>2.257889</td>\n",
       "      <td>8.603505</td>\n",
       "      <td>...</td>\n",
       "      <td>19.737170</td>\n",
       "      <td>86.842308</td>\n",
       "      <td>4.843460</td>\n",
       "      <td>0.546416</td>\n",
       "      <td>18.808533</td>\n",
       "      <td>1.162562</td>\n",
       "      <td>14.115662</td>\n",
       "      <td>4.624775</td>\n",
       "      <td>8.842896</td>\n",
       "      <td>2.458187</td>\n",
       "    </tr>\n",
       "    <tr>\n",
       "      <th>3</th>\n",
       "      <td>6.047977</td>\n",
       "      <td>9.977019</td>\n",
       "      <td>4.858634</td>\n",
       "      <td>42.689819</td>\n",
       "      <td>68.347543</td>\n",
       "      <td>10.422762</td>\n",
       "      <td>0.883763</td>\n",
       "      <td>16.532835</td>\n",
       "      <td>2.146849</td>\n",
       "      <td>7.221879</td>\n",
       "      <td>...</td>\n",
       "      <td>19.320810</td>\n",
       "      <td>87.226430</td>\n",
       "      <td>4.655288</td>\n",
       "      <td>0.542525</td>\n",
       "      <td>19.330200</td>\n",
       "      <td>1.079755</td>\n",
       "      <td>13.732071</td>\n",
       "      <td>4.482453</td>\n",
       "      <td>9.122857</td>\n",
       "      <td>2.322062</td>\n",
       "    </tr>\n",
       "    <tr>\n",
       "      <th>4</th>\n",
       "      <td>6.148599</td>\n",
       "      <td>10.142511</td>\n",
       "      <td>4.939416</td>\n",
       "      <td>42.774141</td>\n",
       "      <td>66.927016</td>\n",
       "      <td>10.360302</td>\n",
       "      <td>0.792826</td>\n",
       "      <td>16.525686</td>\n",
       "      <td>2.055292</td>\n",
       "      <td>9.089428</td>\n",
       "      <td>...</td>\n",
       "      <td>19.216101</td>\n",
       "      <td>86.688794</td>\n",
       "      <td>4.552800</td>\n",
       "      <td>0.515438</td>\n",
       "      <td>19.267422</td>\n",
       "      <td>1.012642</td>\n",
       "      <td>14.079996</td>\n",
       "      <td>4.470737</td>\n",
       "      <td>8.871028</td>\n",
       "      <td>2.330448</td>\n",
       "    </tr>\n",
       "  </tbody>\n",
       "</table>\n",
       "<p>5 rows × 34 columns</p>\n",
       "</div>"
      ],
      "text/plain": [
       "   final.output.concentrate_ag  final.output.concentrate_pb  \\\n",
       "0                     6.055403                     9.889648   \n",
       "1                     6.029369                     9.968944   \n",
       "2                     6.055926                    10.213995   \n",
       "3                     6.047977                     9.977019   \n",
       "4                     6.148599                    10.142511   \n",
       "\n",
       "   final.output.concentrate_sol  final.output.concentrate_au  \\\n",
       "0                      5.507324                    42.192020   \n",
       "1                      5.257781                    42.701629   \n",
       "2                      5.383759                    42.657501   \n",
       "3                      4.858634                    42.689819   \n",
       "4                      4.939416                    42.774141   \n",
       "\n",
       "   final.output.recovery  final.output.tail_ag  final.output.tail_pb  \\\n",
       "0              70.541216             10.411962              0.895447   \n",
       "1              69.266198             10.462676              0.927452   \n",
       "2              68.116445             10.507046              0.953716   \n",
       "3              68.347543             10.422762              0.883763   \n",
       "4              66.927016             10.360302              0.792826   \n",
       "\n",
       "   final.output.tail_sol  final.output.tail_au  \\\n",
       "0              16.904297              2.143149   \n",
       "1              16.634514              2.224930   \n",
       "2              16.208849              2.257889   \n",
       "3              16.532835              2.146849   \n",
       "4              16.525686              2.055292   \n",
       "\n",
       "   primary_cleaner.output.concentrate_ag  ...  rougher.output.concentrate_au  \\\n",
       "0                               8.547551  ...                      19.793808   \n",
       "1                               8.558743  ...                      20.050975   \n",
       "2                               8.603505  ...                      19.737170   \n",
       "3                               7.221879  ...                      19.320810   \n",
       "4                               9.089428  ...                      19.216101   \n",
       "\n",
       "   rougher.output.recovery  rougher.output.tail_ag  rougher.output.tail_pb  \\\n",
       "0                87.107763                5.008018                0.508728   \n",
       "1                86.843261                4.955378                0.536689   \n",
       "2                86.842308                4.843460                0.546416   \n",
       "3                87.226430                4.655288                0.542525   \n",
       "4                86.688794                4.552800                0.515438   \n",
       "\n",
       "   rougher.output.tail_sol  rougher.output.tail_au  \\\n",
       "0                19.154297                1.170244   \n",
       "1                18.965234                1.184827   \n",
       "2                18.808533                1.162562   \n",
       "3                19.330200                1.079755   \n",
       "4                19.267422                1.012642   \n",
       "\n",
       "   secondary_cleaner.output.tail_ag  secondary_cleaner.output.tail_pb  \\\n",
       "0                         14.500184                          4.694824   \n",
       "1                         14.265474                          4.592547   \n",
       "2                         14.115662                          4.624775   \n",
       "3                         13.732071                          4.482453   \n",
       "4                         14.079996                          4.470737   \n",
       "\n",
       "   secondary_cleaner.output.tail_sol  secondary_cleaner.output.tail_au  \n",
       "0                           8.764648                          2.606185  \n",
       "1                           9.001494                          2.488248  \n",
       "2                           8.842896                          2.458187  \n",
       "3                           9.122857                          2.322062  \n",
       "4                           8.871028                          2.330448  \n",
       "\n",
       "[5 rows x 34 columns]"
      ]
     },
     "metadata": {},
     "output_type": "display_data"
    },
    {
     "name": "stdout",
     "output_type": "stream",
     "text": [
      "------------------------------------------------------------------------------------------\n",
      "Info:\n",
      "\n",
      "<class 'pandas.core.frame.DataFrame'>\n",
      "RangeIndex: 22716 entries, 0 to 22715\n",
      "Data columns (total 34 columns):\n",
      " #   Column                                              Non-Null Count  Dtype  \n",
      "---  ------                                              --------------  -----  \n",
      " 0   final.output.concentrate_ag                         22627 non-null  float64\n",
      " 1   final.output.concentrate_pb                         22629 non-null  float64\n",
      " 2   final.output.concentrate_sol                        22331 non-null  float64\n",
      " 3   final.output.concentrate_au                         22630 non-null  float64\n",
      " 4   final.output.recovery                               20753 non-null  float64\n",
      " 5   final.output.tail_ag                                22633 non-null  float64\n",
      " 6   final.output.tail_pb                                22516 non-null  float64\n",
      " 7   final.output.tail_sol                               22445 non-null  float64\n",
      " 8   final.output.tail_au                                22635 non-null  float64\n",
      " 9   primary_cleaner.output.concentrate_ag               22618 non-null  float64\n",
      " 10  primary_cleaner.output.concentrate_pb               22268 non-null  float64\n",
      " 11  primary_cleaner.output.concentrate_sol              21918 non-null  float64\n",
      " 12  primary_cleaner.output.concentrate_au               22618 non-null  float64\n",
      " 13  primary_cleaner.output.tail_ag                      22614 non-null  float64\n",
      " 14  primary_cleaner.output.tail_pb                      22594 non-null  float64\n",
      " 15  primary_cleaner.output.tail_sol                     22365 non-null  float64\n",
      " 16  primary_cleaner.output.tail_au                      22617 non-null  float64\n",
      " 17  rougher.calculation.sulfate_to_au_concentrate       22672 non-null  float64\n",
      " 18  rougher.calculation.floatbank10_sulfate_to_au_feed  22672 non-null  float64\n",
      " 19  rougher.calculation.floatbank11_sulfate_to_au_feed  22672 non-null  float64\n",
      " 20  rougher.calculation.au_pb_ratio                     21089 non-null  float64\n",
      " 21  rougher.output.concentrate_ag                       22618 non-null  float64\n",
      " 22  rougher.output.concentrate_pb                       22618 non-null  float64\n",
      " 23  rougher.output.concentrate_sol                      22526 non-null  float64\n",
      " 24  rougher.output.concentrate_au                       22618 non-null  float64\n",
      " 25  rougher.output.recovery                             19597 non-null  float64\n",
      " 26  rougher.output.tail_ag                              19979 non-null  float64\n",
      " 27  rougher.output.tail_pb                              22618 non-null  float64\n",
      " 28  rougher.output.tail_sol                             19980 non-null  float64\n",
      " 29  rougher.output.tail_au                              19980 non-null  float64\n",
      " 30  secondary_cleaner.output.tail_ag                    22616 non-null  float64\n",
      " 31  secondary_cleaner.output.tail_pb                    22600 non-null  float64\n",
      " 32  secondary_cleaner.output.tail_sol                   20501 non-null  float64\n",
      " 33  secondary_cleaner.output.tail_au                    22618 non-null  float64\n",
      "dtypes: float64(34)\n",
      "memory usage: 5.9 MB\n",
      "None\n",
      "------------------------------------------------------------------------------------------\n",
      "Shape\n",
      "\n"
     ]
    },
    {
     "data": {
      "text/plain": [
       "(22716, 34)"
      ]
     },
     "metadata": {},
     "output_type": "display_data"
    }
   ],
   "source": [
    "info_df(non_test_columns)"
   ]
  },
  {
   "cell_type": "markdown",
   "metadata": {},
   "source": [
    "We are analyzing the out values of raw materials and other chemicals that have been obtained at various stages of raw material enrichment."
   ]
  },
  {
   "cell_type": "markdown",
   "metadata": {},
   "source": [
    "## Data Preprocessing"
   ]
  },
  {
   "cell_type": "code",
   "execution_count": 73,
   "metadata": {},
   "outputs": [],
   "source": [
    "# date format change\n",
    "full_df['date'] = pd.to_datetime(full_df['date'])\n",
    "train_df['date'] = pd.to_datetime(train_df['date'])\n",
    "test_df['date'] = pd.to_datetime(test_df['date'])"
   ]
  },
  {
   "cell_type": "code",
   "execution_count": 74,
   "metadata": {},
   "outputs": [
    {
     "data": {
      "text/html": [
       "<div>\n",
       "<style scoped>\n",
       "    .dataframe tbody tr th:only-of-type {\n",
       "        vertical-align: middle;\n",
       "    }\n",
       "\n",
       "    .dataframe tbody tr th {\n",
       "        vertical-align: top;\n",
       "    }\n",
       "\n",
       "    .dataframe thead th {\n",
       "        text-align: right;\n",
       "    }\n",
       "</style>\n",
       "<table border=\"1\" class=\"dataframe\">\n",
       "  <thead>\n",
       "    <tr style=\"text-align: right;\">\n",
       "      <th></th>\n",
       "      <th>date</th>\n",
       "      <th>final.output.concentrate_ag</th>\n",
       "      <th>final.output.concentrate_pb</th>\n",
       "      <th>final.output.concentrate_sol</th>\n",
       "      <th>final.output.concentrate_au</th>\n",
       "      <th>final.output.recovery</th>\n",
       "      <th>final.output.tail_ag</th>\n",
       "      <th>final.output.tail_pb</th>\n",
       "      <th>final.output.tail_sol</th>\n",
       "      <th>final.output.tail_au</th>\n",
       "      <th>...</th>\n",
       "      <th>secondary_cleaner.state.floatbank4_a_air</th>\n",
       "      <th>secondary_cleaner.state.floatbank4_a_level</th>\n",
       "      <th>secondary_cleaner.state.floatbank4_b_air</th>\n",
       "      <th>secondary_cleaner.state.floatbank4_b_level</th>\n",
       "      <th>secondary_cleaner.state.floatbank5_a_air</th>\n",
       "      <th>secondary_cleaner.state.floatbank5_a_level</th>\n",
       "      <th>secondary_cleaner.state.floatbank5_b_air</th>\n",
       "      <th>secondary_cleaner.state.floatbank5_b_level</th>\n",
       "      <th>secondary_cleaner.state.floatbank6_a_air</th>\n",
       "      <th>secondary_cleaner.state.floatbank6_a_level</th>\n",
       "    </tr>\n",
       "  </thead>\n",
       "  <tbody>\n",
       "    <tr>\n",
       "      <th>0</th>\n",
       "      <td>2016-01-15 00:00:00</td>\n",
       "      <td>6.055403</td>\n",
       "      <td>9.889648</td>\n",
       "      <td>5.507324</td>\n",
       "      <td>42.192020</td>\n",
       "      <td>70.541216</td>\n",
       "      <td>10.411962</td>\n",
       "      <td>0.895447</td>\n",
       "      <td>16.904297</td>\n",
       "      <td>2.143149</td>\n",
       "      <td>...</td>\n",
       "      <td>14.016835</td>\n",
       "      <td>-502.488007</td>\n",
       "      <td>12.099931</td>\n",
       "      <td>-504.715942</td>\n",
       "      <td>9.925633</td>\n",
       "      <td>-498.310211</td>\n",
       "      <td>8.079666</td>\n",
       "      <td>-500.470978</td>\n",
       "      <td>14.151341</td>\n",
       "      <td>-605.841980</td>\n",
       "    </tr>\n",
       "    <tr>\n",
       "      <th>1</th>\n",
       "      <td>2016-01-15 01:00:00</td>\n",
       "      <td>6.029369</td>\n",
       "      <td>9.968944</td>\n",
       "      <td>5.257781</td>\n",
       "      <td>42.701629</td>\n",
       "      <td>69.266198</td>\n",
       "      <td>10.462676</td>\n",
       "      <td>0.927452</td>\n",
       "      <td>16.634514</td>\n",
       "      <td>2.224930</td>\n",
       "      <td>...</td>\n",
       "      <td>13.992281</td>\n",
       "      <td>-505.503262</td>\n",
       "      <td>11.950531</td>\n",
       "      <td>-501.331529</td>\n",
       "      <td>10.039245</td>\n",
       "      <td>-500.169983</td>\n",
       "      <td>7.984757</td>\n",
       "      <td>-500.582168</td>\n",
       "      <td>13.998353</td>\n",
       "      <td>-599.787184</td>\n",
       "    </tr>\n",
       "    <tr>\n",
       "      <th>2</th>\n",
       "      <td>2016-01-15 02:00:00</td>\n",
       "      <td>6.055926</td>\n",
       "      <td>10.213995</td>\n",
       "      <td>5.383759</td>\n",
       "      <td>42.657501</td>\n",
       "      <td>68.116445</td>\n",
       "      <td>10.507046</td>\n",
       "      <td>0.953716</td>\n",
       "      <td>16.208849</td>\n",
       "      <td>2.257889</td>\n",
       "      <td>...</td>\n",
       "      <td>14.015015</td>\n",
       "      <td>-502.520901</td>\n",
       "      <td>11.912783</td>\n",
       "      <td>-501.133383</td>\n",
       "      <td>10.070913</td>\n",
       "      <td>-500.129135</td>\n",
       "      <td>8.013877</td>\n",
       "      <td>-500.517572</td>\n",
       "      <td>14.028663</td>\n",
       "      <td>-601.427363</td>\n",
       "    </tr>\n",
       "    <tr>\n",
       "      <th>3</th>\n",
       "      <td>2016-01-15 03:00:00</td>\n",
       "      <td>6.047977</td>\n",
       "      <td>9.977019</td>\n",
       "      <td>4.858634</td>\n",
       "      <td>42.689819</td>\n",
       "      <td>68.347543</td>\n",
       "      <td>10.422762</td>\n",
       "      <td>0.883763</td>\n",
       "      <td>16.532835</td>\n",
       "      <td>2.146849</td>\n",
       "      <td>...</td>\n",
       "      <td>14.036510</td>\n",
       "      <td>-500.857308</td>\n",
       "      <td>11.999550</td>\n",
       "      <td>-501.193686</td>\n",
       "      <td>9.970366</td>\n",
       "      <td>-499.201640</td>\n",
       "      <td>7.977324</td>\n",
       "      <td>-500.255908</td>\n",
       "      <td>14.005551</td>\n",
       "      <td>-599.996129</td>\n",
       "    </tr>\n",
       "    <tr>\n",
       "      <th>4</th>\n",
       "      <td>2016-01-15 04:00:00</td>\n",
       "      <td>6.148599</td>\n",
       "      <td>10.142511</td>\n",
       "      <td>4.939416</td>\n",
       "      <td>42.774141</td>\n",
       "      <td>66.927016</td>\n",
       "      <td>10.360302</td>\n",
       "      <td>0.792826</td>\n",
       "      <td>16.525686</td>\n",
       "      <td>2.055292</td>\n",
       "      <td>...</td>\n",
       "      <td>14.027298</td>\n",
       "      <td>-499.838632</td>\n",
       "      <td>11.953070</td>\n",
       "      <td>-501.053894</td>\n",
       "      <td>9.925709</td>\n",
       "      <td>-501.686727</td>\n",
       "      <td>7.894242</td>\n",
       "      <td>-500.356035</td>\n",
       "      <td>13.996647</td>\n",
       "      <td>-601.496691</td>\n",
       "    </tr>\n",
       "  </tbody>\n",
       "</table>\n",
       "<p>5 rows × 87 columns</p>\n",
       "</div>"
      ],
      "text/plain": [
       "                 date  final.output.concentrate_ag  \\\n",
       "0 2016-01-15 00:00:00                     6.055403   \n",
       "1 2016-01-15 01:00:00                     6.029369   \n",
       "2 2016-01-15 02:00:00                     6.055926   \n",
       "3 2016-01-15 03:00:00                     6.047977   \n",
       "4 2016-01-15 04:00:00                     6.148599   \n",
       "\n",
       "   final.output.concentrate_pb  final.output.concentrate_sol  \\\n",
       "0                     9.889648                      5.507324   \n",
       "1                     9.968944                      5.257781   \n",
       "2                    10.213995                      5.383759   \n",
       "3                     9.977019                      4.858634   \n",
       "4                    10.142511                      4.939416   \n",
       "\n",
       "   final.output.concentrate_au  final.output.recovery  final.output.tail_ag  \\\n",
       "0                    42.192020              70.541216             10.411962   \n",
       "1                    42.701629              69.266198             10.462676   \n",
       "2                    42.657501              68.116445             10.507046   \n",
       "3                    42.689819              68.347543             10.422762   \n",
       "4                    42.774141              66.927016             10.360302   \n",
       "\n",
       "   final.output.tail_pb  final.output.tail_sol  final.output.tail_au  ...  \\\n",
       "0              0.895447              16.904297              2.143149  ...   \n",
       "1              0.927452              16.634514              2.224930  ...   \n",
       "2              0.953716              16.208849              2.257889  ...   \n",
       "3              0.883763              16.532835              2.146849  ...   \n",
       "4              0.792826              16.525686              2.055292  ...   \n",
       "\n",
       "   secondary_cleaner.state.floatbank4_a_air  \\\n",
       "0                                 14.016835   \n",
       "1                                 13.992281   \n",
       "2                                 14.015015   \n",
       "3                                 14.036510   \n",
       "4                                 14.027298   \n",
       "\n",
       "   secondary_cleaner.state.floatbank4_a_level  \\\n",
       "0                                 -502.488007   \n",
       "1                                 -505.503262   \n",
       "2                                 -502.520901   \n",
       "3                                 -500.857308   \n",
       "4                                 -499.838632   \n",
       "\n",
       "   secondary_cleaner.state.floatbank4_b_air  \\\n",
       "0                                 12.099931   \n",
       "1                                 11.950531   \n",
       "2                                 11.912783   \n",
       "3                                 11.999550   \n",
       "4                                 11.953070   \n",
       "\n",
       "   secondary_cleaner.state.floatbank4_b_level  \\\n",
       "0                                 -504.715942   \n",
       "1                                 -501.331529   \n",
       "2                                 -501.133383   \n",
       "3                                 -501.193686   \n",
       "4                                 -501.053894   \n",
       "\n",
       "   secondary_cleaner.state.floatbank5_a_air  \\\n",
       "0                                  9.925633   \n",
       "1                                 10.039245   \n",
       "2                                 10.070913   \n",
       "3                                  9.970366   \n",
       "4                                  9.925709   \n",
       "\n",
       "   secondary_cleaner.state.floatbank5_a_level  \\\n",
       "0                                 -498.310211   \n",
       "1                                 -500.169983   \n",
       "2                                 -500.129135   \n",
       "3                                 -499.201640   \n",
       "4                                 -501.686727   \n",
       "\n",
       "   secondary_cleaner.state.floatbank5_b_air  \\\n",
       "0                                  8.079666   \n",
       "1                                  7.984757   \n",
       "2                                  8.013877   \n",
       "3                                  7.977324   \n",
       "4                                  7.894242   \n",
       "\n",
       "   secondary_cleaner.state.floatbank5_b_level  \\\n",
       "0                                 -500.470978   \n",
       "1                                 -500.582168   \n",
       "2                                 -500.517572   \n",
       "3                                 -500.255908   \n",
       "4                                 -500.356035   \n",
       "\n",
       "   secondary_cleaner.state.floatbank6_a_air  \\\n",
       "0                                 14.151341   \n",
       "1                                 13.998353   \n",
       "2                                 14.028663   \n",
       "3                                 14.005551   \n",
       "4                                 13.996647   \n",
       "\n",
       "   secondary_cleaner.state.floatbank6_a_level  \n",
       "0                                 -605.841980  \n",
       "1                                 -599.787184  \n",
       "2                                 -601.427363  \n",
       "3                                 -599.996129  \n",
       "4                                 -601.496691  \n",
       "\n",
       "[5 rows x 87 columns]"
      ]
     },
     "execution_count": 74,
     "metadata": {},
     "output_type": "execute_result"
    }
   ],
   "source": [
    "full_df.head()"
   ]
  },
  {
   "cell_type": "code",
   "execution_count": 75,
   "metadata": {},
   "outputs": [
    {
     "data": {
      "text/plain": [
       "date                                            0\n",
       "final.output.concentrate_ag                    89\n",
       "final.output.concentrate_pb                    87\n",
       "final.output.concentrate_sol                  385\n",
       "final.output.concentrate_au                    86\n",
       "                                             ... \n",
       "secondary_cleaner.state.floatbank5_a_level    101\n",
       "secondary_cleaner.state.floatbank5_b_air      101\n",
       "secondary_cleaner.state.floatbank5_b_level    100\n",
       "secondary_cleaner.state.floatbank6_a_air      119\n",
       "secondary_cleaner.state.floatbank6_a_level    101\n",
       "Length: 87, dtype: int64"
      ]
     },
     "execution_count": 75,
     "metadata": {},
     "output_type": "execute_result"
    }
   ],
   "source": [
    "full_df.isna().sum()"
   ]
  },
  {
   "cell_type": "code",
   "execution_count": 76,
   "metadata": {},
   "outputs": [
    {
     "data": {
      "text/plain": [
       "(16860, 55)"
      ]
     },
     "execution_count": 76,
     "metadata": {},
     "output_type": "execute_result"
    }
   ],
   "source": [
    "train_df = train_df[test_df.columns]\n",
    "train_df.shape"
   ]
  },
  {
   "cell_type": "code",
   "execution_count": 77,
   "metadata": {},
   "outputs": [
    {
     "data": {
      "text/plain": [
       "date                                             0\n",
       "primary_cleaner.input.sulfate                 1307\n",
       "primary_cleaner.input.depressant              1262\n",
       "primary_cleaner.input.feed_size                  0\n",
       "primary_cleaner.input.xanthate                 985\n",
       "primary_cleaner.state.floatbank8_a_air          40\n",
       "primary_cleaner.state.floatbank8_a_level        33\n",
       "primary_cleaner.state.floatbank8_b_air          40\n",
       "primary_cleaner.state.floatbank8_b_level        27\n",
       "primary_cleaner.state.floatbank8_c_air          38\n",
       "primary_cleaner.state.floatbank8_c_level        27\n",
       "primary_cleaner.state.floatbank8_d_air          39\n",
       "primary_cleaner.state.floatbank8_d_level        27\n",
       "rougher.input.feed_ag                           82\n",
       "rougher.input.feed_pb                          228\n",
       "rougher.input.feed_rate                        513\n",
       "rougher.input.feed_size                        417\n",
       "rougher.input.feed_sol                         292\n",
       "rougher.input.feed_au                           83\n",
       "rougher.input.floatbank10_sulfate             1044\n",
       "rougher.input.floatbank10_xanthate             346\n",
       "rougher.input.floatbank11_sulfate              623\n",
       "rougher.input.floatbank11_xanthate            1904\n",
       "rougher.state.floatbank10_a_air                 53\n",
       "rougher.state.floatbank10_a_level               53\n",
       "rougher.state.floatbank10_b_air                 53\n",
       "rougher.state.floatbank10_b_level               53\n",
       "rougher.state.floatbank10_c_air                 53\n",
       "rougher.state.floatbank10_c_level               46\n",
       "rougher.state.floatbank10_d_air                 58\n",
       "rougher.state.floatbank10_d_level               51\n",
       "rougher.state.floatbank10_e_air                603\n",
       "rougher.state.floatbank10_e_level               51\n",
       "rougher.state.floatbank10_f_air                 58\n",
       "rougher.state.floatbank10_f_level               58\n",
       "secondary_cleaner.state.floatbank2_a_air       363\n",
       "secondary_cleaner.state.floatbank2_a_level     109\n",
       "secondary_cleaner.state.floatbank2_b_air       155\n",
       "secondary_cleaner.state.floatbank2_b_level     112\n",
       "secondary_cleaner.state.floatbank3_a_air        97\n",
       "secondary_cleaner.state.floatbank3_a_level     113\n",
       "secondary_cleaner.state.floatbank3_b_air       108\n",
       "secondary_cleaner.state.floatbank3_b_level     110\n",
       "secondary_cleaner.state.floatbank4_a_air       129\n",
       "secondary_cleaner.state.floatbank4_a_level     113\n",
       "secondary_cleaner.state.floatbank4_b_air        92\n",
       "secondary_cleaner.state.floatbank4_b_level      93\n",
       "secondary_cleaner.state.floatbank5_a_air        85\n",
       "secondary_cleaner.state.floatbank5_a_level      85\n",
       "secondary_cleaner.state.floatbank5_b_air        85\n",
       "secondary_cleaner.state.floatbank5_b_level      84\n",
       "secondary_cleaner.state.floatbank6_a_air       103\n",
       "secondary_cleaner.state.floatbank6_a_level      85\n",
       "rougher.output.recovery                          0\n",
       "final.output.recovery                         1521\n",
       "dtype: int64"
      ]
     },
     "execution_count": 77,
     "metadata": {},
     "output_type": "execute_result"
    }
   ],
   "source": [
    "train_df.isna().sum()"
   ]
  },
  {
   "cell_type": "code",
   "execution_count": 78,
   "metadata": {},
   "outputs": [
    {
     "data": {
      "text/plain": [
       "date                                            0\n",
       "primary_cleaner.input.sulfate                 302\n",
       "primary_cleaner.input.depressant              284\n",
       "primary_cleaner.input.feed_size                 0\n",
       "primary_cleaner.input.xanthate                166\n",
       "primary_cleaner.state.floatbank8_a_air         16\n",
       "primary_cleaner.state.floatbank8_a_level       16\n",
       "primary_cleaner.state.floatbank8_b_air         16\n",
       "primary_cleaner.state.floatbank8_b_level       16\n",
       "primary_cleaner.state.floatbank8_c_air         16\n",
       "primary_cleaner.state.floatbank8_c_level       16\n",
       "primary_cleaner.state.floatbank8_d_air         16\n",
       "primary_cleaner.state.floatbank8_d_level       16\n",
       "rougher.input.feed_ag                          16\n",
       "rougher.input.feed_pb                          16\n",
       "rougher.input.feed_rate                        40\n",
       "rougher.input.feed_size                        22\n",
       "rougher.input.feed_sol                         67\n",
       "rougher.input.feed_au                          16\n",
       "rougher.input.floatbank10_sulfate             257\n",
       "rougher.input.floatbank10_xanthate            123\n",
       "rougher.input.floatbank11_sulfate              55\n",
       "rougher.input.floatbank11_xanthate            353\n",
       "rougher.state.floatbank10_a_air                17\n",
       "rougher.state.floatbank10_a_level              16\n",
       "rougher.state.floatbank10_b_air                17\n",
       "rougher.state.floatbank10_b_level              16\n",
       "rougher.state.floatbank10_c_air                17\n",
       "rougher.state.floatbank10_c_level              16\n",
       "rougher.state.floatbank10_d_air                17\n",
       "rougher.state.floatbank10_d_level              16\n",
       "rougher.state.floatbank10_e_air                17\n",
       "rougher.state.floatbank10_e_level              16\n",
       "rougher.state.floatbank10_f_air                17\n",
       "rougher.state.floatbank10_f_level              16\n",
       "secondary_cleaner.state.floatbank2_a_air       20\n",
       "secondary_cleaner.state.floatbank2_a_level     16\n",
       "secondary_cleaner.state.floatbank2_b_air       23\n",
       "secondary_cleaner.state.floatbank2_b_level     16\n",
       "secondary_cleaner.state.floatbank3_a_air       34\n",
       "secondary_cleaner.state.floatbank3_a_level     16\n",
       "secondary_cleaner.state.floatbank3_b_air       16\n",
       "secondary_cleaner.state.floatbank3_b_level     16\n",
       "secondary_cleaner.state.floatbank4_a_air       16\n",
       "secondary_cleaner.state.floatbank4_a_level     16\n",
       "secondary_cleaner.state.floatbank4_b_air       16\n",
       "secondary_cleaner.state.floatbank4_b_level     16\n",
       "secondary_cleaner.state.floatbank5_a_air       16\n",
       "secondary_cleaner.state.floatbank5_a_level     16\n",
       "secondary_cleaner.state.floatbank5_b_air       16\n",
       "secondary_cleaner.state.floatbank5_b_level     16\n",
       "secondary_cleaner.state.floatbank6_a_air       16\n",
       "secondary_cleaner.state.floatbank6_a_level     16\n",
       "rougher.output.recovery                       546\n",
       "final.output.recovery                         442\n",
       "dtype: int64"
      ]
     },
     "execution_count": 78,
     "metadata": {},
     "output_type": "execute_result"
    }
   ],
   "source": [
    "test_df.isna().sum()"
   ]
  },
  {
   "cell_type": "code",
   "execution_count": 79,
   "metadata": {},
   "outputs": [],
   "source": [
    "train_df.fillna(method='bfill', inplace=True)\n",
    "test_df.fillna(method='bfill', inplace=True)"
   ]
  },
  {
   "cell_type": "code",
   "execution_count": 80,
   "metadata": {},
   "outputs": [
    {
     "data": {
      "text/plain": [
       "date                                          0\n",
       "primary_cleaner.input.sulfate                 0\n",
       "primary_cleaner.input.depressant              0\n",
       "primary_cleaner.input.feed_size               0\n",
       "primary_cleaner.input.xanthate                0\n",
       "primary_cleaner.state.floatbank8_a_air        0\n",
       "primary_cleaner.state.floatbank8_a_level      0\n",
       "primary_cleaner.state.floatbank8_b_air        0\n",
       "primary_cleaner.state.floatbank8_b_level      0\n",
       "primary_cleaner.state.floatbank8_c_air        0\n",
       "primary_cleaner.state.floatbank8_c_level      0\n",
       "primary_cleaner.state.floatbank8_d_air        0\n",
       "primary_cleaner.state.floatbank8_d_level      0\n",
       "rougher.input.feed_ag                         0\n",
       "rougher.input.feed_pb                         0\n",
       "rougher.input.feed_rate                       0\n",
       "rougher.input.feed_size                       0\n",
       "rougher.input.feed_sol                        0\n",
       "rougher.input.feed_au                         0\n",
       "rougher.input.floatbank10_sulfate             0\n",
       "rougher.input.floatbank10_xanthate            0\n",
       "rougher.input.floatbank11_sulfate             0\n",
       "rougher.input.floatbank11_xanthate            0\n",
       "rougher.state.floatbank10_a_air               0\n",
       "rougher.state.floatbank10_a_level             0\n",
       "rougher.state.floatbank10_b_air               0\n",
       "rougher.state.floatbank10_b_level             0\n",
       "rougher.state.floatbank10_c_air               0\n",
       "rougher.state.floatbank10_c_level             0\n",
       "rougher.state.floatbank10_d_air               0\n",
       "rougher.state.floatbank10_d_level             0\n",
       "rougher.state.floatbank10_e_air               0\n",
       "rougher.state.floatbank10_e_level             0\n",
       "rougher.state.floatbank10_f_air               0\n",
       "rougher.state.floatbank10_f_level             0\n",
       "secondary_cleaner.state.floatbank2_a_air      0\n",
       "secondary_cleaner.state.floatbank2_a_level    0\n",
       "secondary_cleaner.state.floatbank2_b_air      0\n",
       "secondary_cleaner.state.floatbank2_b_level    0\n",
       "secondary_cleaner.state.floatbank3_a_air      0\n",
       "secondary_cleaner.state.floatbank3_a_level    0\n",
       "secondary_cleaner.state.floatbank3_b_air      0\n",
       "secondary_cleaner.state.floatbank3_b_level    0\n",
       "secondary_cleaner.state.floatbank4_a_air      0\n",
       "secondary_cleaner.state.floatbank4_a_level    0\n",
       "secondary_cleaner.state.floatbank4_b_air      0\n",
       "secondary_cleaner.state.floatbank4_b_level    0\n",
       "secondary_cleaner.state.floatbank5_a_air      0\n",
       "secondary_cleaner.state.floatbank5_a_level    0\n",
       "secondary_cleaner.state.floatbank5_b_air      0\n",
       "secondary_cleaner.state.floatbank5_b_level    0\n",
       "secondary_cleaner.state.floatbank6_a_air      0\n",
       "secondary_cleaner.state.floatbank6_a_level    0\n",
       "rougher.output.recovery                       0\n",
       "final.output.recovery                         0\n",
       "dtype: int64"
      ]
     },
     "execution_count": 80,
     "metadata": {},
     "output_type": "execute_result"
    }
   ],
   "source": [
    "train_df.isna().sum()"
   ]
  },
  {
   "cell_type": "code",
   "execution_count": 81,
   "metadata": {},
   "outputs": [
    {
     "data": {
      "text/plain": [
       "date                                          0\n",
       "primary_cleaner.input.sulfate                 0\n",
       "primary_cleaner.input.depressant              0\n",
       "primary_cleaner.input.feed_size               0\n",
       "primary_cleaner.input.xanthate                0\n",
       "primary_cleaner.state.floatbank8_a_air        0\n",
       "primary_cleaner.state.floatbank8_a_level      0\n",
       "primary_cleaner.state.floatbank8_b_air        0\n",
       "primary_cleaner.state.floatbank8_b_level      0\n",
       "primary_cleaner.state.floatbank8_c_air        0\n",
       "primary_cleaner.state.floatbank8_c_level      0\n",
       "primary_cleaner.state.floatbank8_d_air        0\n",
       "primary_cleaner.state.floatbank8_d_level      0\n",
       "rougher.input.feed_ag                         0\n",
       "rougher.input.feed_pb                         0\n",
       "rougher.input.feed_rate                       0\n",
       "rougher.input.feed_size                       0\n",
       "rougher.input.feed_sol                        0\n",
       "rougher.input.feed_au                         0\n",
       "rougher.input.floatbank10_sulfate             0\n",
       "rougher.input.floatbank10_xanthate            0\n",
       "rougher.input.floatbank11_sulfate             0\n",
       "rougher.input.floatbank11_xanthate            0\n",
       "rougher.state.floatbank10_a_air               0\n",
       "rougher.state.floatbank10_a_level             0\n",
       "rougher.state.floatbank10_b_air               0\n",
       "rougher.state.floatbank10_b_level             0\n",
       "rougher.state.floatbank10_c_air               0\n",
       "rougher.state.floatbank10_c_level             0\n",
       "rougher.state.floatbank10_d_air               0\n",
       "rougher.state.floatbank10_d_level             0\n",
       "rougher.state.floatbank10_e_air               0\n",
       "rougher.state.floatbank10_e_level             0\n",
       "rougher.state.floatbank10_f_air               0\n",
       "rougher.state.floatbank10_f_level             0\n",
       "secondary_cleaner.state.floatbank2_a_air      0\n",
       "secondary_cleaner.state.floatbank2_a_level    0\n",
       "secondary_cleaner.state.floatbank2_b_air      0\n",
       "secondary_cleaner.state.floatbank2_b_level    0\n",
       "secondary_cleaner.state.floatbank3_a_air      0\n",
       "secondary_cleaner.state.floatbank3_a_level    0\n",
       "secondary_cleaner.state.floatbank3_b_air      0\n",
       "secondary_cleaner.state.floatbank3_b_level    0\n",
       "secondary_cleaner.state.floatbank4_a_air      0\n",
       "secondary_cleaner.state.floatbank4_a_level    0\n",
       "secondary_cleaner.state.floatbank4_b_air      0\n",
       "secondary_cleaner.state.floatbank4_b_level    0\n",
       "secondary_cleaner.state.floatbank5_a_air      0\n",
       "secondary_cleaner.state.floatbank5_a_level    0\n",
       "secondary_cleaner.state.floatbank5_b_air      0\n",
       "secondary_cleaner.state.floatbank5_b_level    0\n",
       "secondary_cleaner.state.floatbank6_a_air      0\n",
       "secondary_cleaner.state.floatbank6_a_level    0\n",
       "rougher.output.recovery                       0\n",
       "final.output.recovery                         0\n",
       "dtype: int64"
      ]
     },
     "execution_count": 81,
     "metadata": {},
     "output_type": "execute_result"
    }
   ],
   "source": [
    "test_df.isna().sum()"
   ]
  },
  {
   "cell_type": "code",
   "execution_count": 82,
   "metadata": {},
   "outputs": [
    {
     "name": "stdout",
     "output_type": "stream",
     "text": [
      "(16860, 55) | (5856, 55)\n"
     ]
    }
   ],
   "source": [
    "print(train_df.shape, test_df.shape, sep=' | ')"
   ]
  },
  {
   "cell_type": "markdown",
   "metadata": {},
   "source": [
    "Now we have datasets without missing values and aren't losing a large amount of data in the process. Let's continue to work with it and conduct analysis."
   ]
  },
  {
   "cell_type": "markdown",
   "metadata": {},
   "source": [
    "## Data Analysis"
   ]
  },
  {
   "cell_type": "code",
   "execution_count": 83,
   "metadata": {},
   "outputs": [
    {
     "data": {
      "text/plain": [
       "{'gold': 'au', 'silver': 'ag', 'lead': 'pb'}"
      ]
     },
     "execution_count": 83,
     "metadata": {},
     "output_type": "execute_result"
    }
   ],
   "source": [
    "elements = {'gold': 'au', 'silver': 'ag', 'lead': 'pb'}\n",
    "elements"
   ]
  },
  {
   "cell_type": "code",
   "execution_count": 84,
   "metadata": {},
   "outputs": [],
   "source": [
    "def concentrate(e):\n",
    "    cols = ['rougher.input.feed_'+e, 'rougher.output.concentrate_'+e, \n",
    "            'primary_cleaner.output.concentrate_'+e, 'final.output.concentrate_'+e]\n",
    "    concentrate = full_df[cols]  \n",
    "    sns.displot(full_df[cols], \n",
    "            legend=True, \n",
    "            kde=True, \n",
    "            height=7.7, \n",
    "            aspect=1.5)\n",
    "    plt.title('Concentration of ' + str(e).title() + ' on the different stages', fontsize=16)\n",
    "    plt.figure(figsize=(12.8,8))\n",
    "    plt.xticks(rotation=0)\n",
    "    sns.boxplot(data=full_df[cols])"
   ]
  },
  {
   "cell_type": "code",
   "execution_count": 85,
   "metadata": {},
   "outputs": [
    {
     "data": {
      "image/png": "[encoded data removed]",
      "text/plain": [
       "<Figure size 1479.62x770 with 1 Axes>"
      ]
     },
     "metadata": {},
     "output_type": "display_data"
    },
    {
     "data": {
      "image/png": "[encoded data removed]",
      "text/plain": [
       "<Figure size 1280x800 with 1 Axes>"
      ]
     },
     "metadata": {},
     "output_type": "display_data"
    }
   ],
   "source": [
    "concentrate(elements['gold'])"
   ]
  },
  {
   "cell_type": "markdown",
   "metadata": {},
   "source": [
    "We can see that the concentration of gold increases with each step. The boxplots shows there are outlier at each step."
   ]
  },
  {
   "cell_type": "code",
   "execution_count": 86,
   "metadata": {},
   "outputs": [
    {
     "data": {
      "image/png": "[encoded data removed]",
      "text/plain": [
       "<Figure size 1479.75x770 with 1 Axes>"
      ]
     },
     "metadata": {},
     "output_type": "display_data"
    },
    {
     "data": {
      "image/png": "[encoded data removed]",
      "text/plain": [
       "<Figure size 1280x800 with 1 Axes>"
      ]
     },
     "metadata": {},
     "output_type": "display_data"
    }
   ],
   "source": [
    "concentrate(elements['silver'])"
   ]
  },
  {
   "cell_type": "markdown",
   "metadata": {},
   "source": [
    "With silver it looks like our distributions are decreasing at each stage. The boxplopts show that there are many outliers with this element as well."
   ]
  },
  {
   "cell_type": "code",
   "execution_count": 87,
   "metadata": {},
   "outputs": [
    {
     "data": {
      "image/png": "[encoded data removed]",
      "text/plain": [
       "<Figure size 1480x770 with 1 Axes>"
      ]
     },
     "metadata": {},
     "output_type": "display_data"
    },
    {
     "data": {
      "image/png": "[encoded data removed]",
      "text/plain": [
       "<Figure size 1280x800 with 1 Axes>"
      ]
     },
     "metadata": {},
     "output_type": "display_data"
    }
   ],
   "source": [
    "concentrate(elements['lead'])"
   ]
  },
  {
   "cell_type": "markdown",
   "metadata": {},
   "source": [
    "The concentration of lead gradually increases during the 1st 3 stages of purification. Least of all, lead at the start of the process, when it is mixed with gold-bearing ore. The median indicator almost goes hand in had at the last two stages, but the spread of the values decreases at the final stage. More outliers as well."
   ]
  },
  {
   "cell_type": "markdown",
   "metadata": {},
   "source": [
    "Comparing the feed particle size distributions in training set and test set. "
   ]
  },
  {
   "cell_type": "code",
   "execution_count": 88,
   "metadata": {},
   "outputs": [
    {
     "data": {
      "image/png": "[encoded data removed]",
      "text/plain": [
       "<Figure size 1000x600 with 1 Axes>"
      ]
     },
     "metadata": {},
     "output_type": "display_data"
    }
   ],
   "source": [
    "rougher_train_concentration = train_df[train_df['rougher.input.feed_size'] > 1]\n",
    "rougher_test_concentration = test_df[test_df['rougher.input.feed_size'] > 1]\n",
    "    \n",
    "plt.figure(figsize=(10, 6))\n",
    "sns.distplot(rougher_train_concentration[['rougher.input.feed_size']], bins=30)\n",
    "sns.distplot(rougher_test_concentration[['rougher.input.feed_size']], bins=30)\n",
    "plt.legend(['train', 'test'])\n",
    "plt.title('Size comparison')\n",
    "plt.show()"
   ]
  },
  {
   "cell_type": "markdown",
   "metadata": {},
   "source": [
    "The distribution sizees seem to be different slightly. We can see that the test sample is dominated by larger granules."
   ]
  },
  {
   "cell_type": "markdown",
   "metadata": {},
   "source": [
    "## Consider the total concentrations of all substances at different stages: raw feed, rougher concentrate, and final concentrate. Do you notice any abnormal values in the total distribution? If you do, is it worth removing such values from both samples? Describe the findings and eliminate anomalies."
   ]
  },
  {
   "cell_type": "code",
   "execution_count": 89,
   "metadata": {},
   "outputs": [],
   "source": [
    "first = 'rougher.input.feed_'\n",
    "second = 'rougher.output.concentrate_'\n",
    "third = 'primary_cleaner.output.concentrate_'\n",
    "fourth = 'final.output.concentrate_'"
   ]
  },
  {
   "cell_type": "code",
   "execution_count": 90,
   "metadata": {},
   "outputs": [],
   "source": [
    "full_df['raw_material'] = full_df[[first+'au', first+'ag', first+'pb']].sum(axis=1)\n",
    "full_df['draft_concentrate'] = full_df[[second+'au', second+'ag', second+'pb']].sum(axis=1)\n",
    "full_df['concentrate_after_filtering'] = full_df[[third+'au', third+'ag', third+'pb']].sum(axis=1)\n",
    "full_df['final_concentrate'] = full_df[[fourth+'au', fourth+'ag', fourth+'pb']].sum(axis=1)"
   ]
  },
  {
   "cell_type": "code",
   "execution_count": 91,
   "metadata": {},
   "outputs": [
    {
     "data": {
      "text/html": [
       "<div>\n",
       "<style scoped>\n",
       "    .dataframe tbody tr th:only-of-type {\n",
       "        vertical-align: middle;\n",
       "    }\n",
       "\n",
       "    .dataframe tbody tr th {\n",
       "        vertical-align: top;\n",
       "    }\n",
       "\n",
       "    .dataframe thead th {\n",
       "        text-align: right;\n",
       "    }\n",
       "</style>\n",
       "<table border=\"1\" class=\"dataframe\">\n",
       "  <thead>\n",
       "    <tr style=\"text-align: right;\">\n",
       "      <th></th>\n",
       "      <th>raw_material</th>\n",
       "      <th>draft_concentrate</th>\n",
       "      <th>concentrate_after_filtering</th>\n",
       "      <th>final_concentrate</th>\n",
       "    </tr>\n",
       "  </thead>\n",
       "  <tbody>\n",
       "    <tr>\n",
       "      <th>count</th>\n",
       "      <td>22716.000000</td>\n",
       "      <td>22716.000000</td>\n",
       "      <td>22716.000000</td>\n",
       "      <td>22716.000000</td>\n",
       "    </tr>\n",
       "    <tr>\n",
       "      <th>mean</th>\n",
       "      <td>18.833952</td>\n",
       "      <td>35.500849</td>\n",
       "      <td>45.489901</td>\n",
       "      <td>53.673032</td>\n",
       "    </tr>\n",
       "    <tr>\n",
       "      <th>std</th>\n",
       "      <td>7.418530</td>\n",
       "      <td>13.401008</td>\n",
       "      <td>16.248774</td>\n",
       "      <td>17.975586</td>\n",
       "    </tr>\n",
       "    <tr>\n",
       "      <th>min</th>\n",
       "      <td>0.000000</td>\n",
       "      <td>0.000000</td>\n",
       "      <td>0.000000</td>\n",
       "      <td>0.000000</td>\n",
       "    </tr>\n",
       "    <tr>\n",
       "      <th>25%</th>\n",
       "      <td>16.447446</td>\n",
       "      <td>37.326591</td>\n",
       "      <td>48.745632</td>\n",
       "      <td>58.684224</td>\n",
       "    </tr>\n",
       "    <tr>\n",
       "      <th>50%</th>\n",
       "      <td>19.560398</td>\n",
       "      <td>39.961497</td>\n",
       "      <td>51.517962</td>\n",
       "      <td>60.073814</td>\n",
       "    </tr>\n",
       "    <tr>\n",
       "      <th>75%</th>\n",
       "      <td>23.572584</td>\n",
       "      <td>42.181417</td>\n",
       "      <td>53.156499</td>\n",
       "      <td>60.990543</td>\n",
       "    </tr>\n",
       "    <tr>\n",
       "      <th>max</th>\n",
       "      <td>35.071987</td>\n",
       "      <td>55.568687</td>\n",
       "      <td>60.269003</td>\n",
       "      <td>65.575259</td>\n",
       "    </tr>\n",
       "  </tbody>\n",
       "</table>\n",
       "</div>"
      ],
      "text/plain": [
       "       raw_material  draft_concentrate  concentrate_after_filtering  \\\n",
       "count  22716.000000       22716.000000                 22716.000000   \n",
       "mean      18.833952          35.500849                    45.489901   \n",
       "std        7.418530          13.401008                    16.248774   \n",
       "min        0.000000           0.000000                     0.000000   \n",
       "25%       16.447446          37.326591                    48.745632   \n",
       "50%       19.560398          39.961497                    51.517962   \n",
       "75%       23.572584          42.181417                    53.156499   \n",
       "max       35.071987          55.568687                    60.269003   \n",
       "\n",
       "       final_concentrate  \n",
       "count       22716.000000  \n",
       "mean           53.673032  \n",
       "std            17.975586  \n",
       "min             0.000000  \n",
       "25%            58.684224  \n",
       "50%            60.073814  \n",
       "75%            60.990543  \n",
       "max            65.575259  "
      ]
     },
     "execution_count": 91,
     "metadata": {},
     "output_type": "execute_result"
    }
   ],
   "source": [
    "full_df[['raw_material', 'draft_concentrate', 'concentrate_after_filtering', 'final_concentrate']].describe()"
   ]
  },
  {
   "cell_type": "code",
   "execution_count": 92,
   "metadata": {},
   "outputs": [
    {
     "data": {
      "image/png": "[encoded data removed]",
      "text/plain": [
       "<Figure size 1284.75x700 with 1 Axes>"
      ]
     },
     "metadata": {},
     "output_type": "display_data"
    },
    {
     "data": {
      "image/png": "[encoded data removed]",
      "text/plain": [
       "<Figure size 1280x800 with 1 Axes>"
      ]
     },
     "metadata": {},
     "output_type": "display_data"
    }
   ],
   "source": [
    "all_col = ['raw_material', 'draft_concentrate', 'concentrate_after_filtering', 'final_concentrate']\n",
    "concentrate = full_df[all_col]    \n",
    "    \n",
    "sns.displot(full_df[all_col], \n",
    "            legend=True, \n",
    "            kde=True, \n",
    "            height=7, \n",
    "            aspect=1.5)\n",
    "    \n",
    "plt.title('Summary concentration on the different stages', fontsize=16)\n",
    "    \n",
    "plt.figure(figsize=(12.8,8))\n",
    "plt.xticks(rotation=0)\n",
    "sns.boxplot(data=full_df[all_col])\n",
    "plt.show()"
   ]
  },
  {
   "cell_type": "markdown",
   "metadata": {},
   "source": [
    "There a not a lot of 0 value outliers. In the raw, it can be connected with nonmetal materials. They may have an impact on the performance of our models so it is best to just remove them."
   ]
  },
  {
   "cell_type": "code",
   "execution_count": 93,
   "metadata": {},
   "outputs": [
    {
     "name": "stdout",
     "output_type": "stream",
     "text": [
      "raw_material zeros: 1626\n",
      "raw_material under 1: 2007\n",
      "\n",
      "\n",
      "draft_concentrate zeros: 2051\n",
      "draft_concentrate under 1: 2504\n",
      "\n",
      "\n",
      "concentrate_after_filtering zeros: 1724\n",
      "concentrate_after_filtering under 1: 2260\n",
      "\n",
      "\n",
      "final_concentrate zeros: 1699\n",
      "final_concentrate under 1: 2105\n",
      "\n",
      "\n"
     ]
    }
   ],
   "source": [
    "for col in all_col:\n",
    "    print(col, 'zeros:', len(full_df[full_df[col] == 0]))\n",
    "    print(col, 'under 1:', len(full_df[full_df[col] < 1]))\n",
    "    print('\\n')"
   ]
  },
  {
   "cell_type": "code",
   "execution_count": 94,
   "metadata": {},
   "outputs": [
    {
     "data": {
      "text/plain": [
       "(19575, 91)"
      ]
     },
     "execution_count": 94,
     "metadata": {},
     "output_type": "execute_result"
    }
   ],
   "source": [
    "cleaned_full_df = full_df[\n",
    "    (full_df['raw_material'] >  1) & \n",
    "    (full_df['draft_concentrate'] > 1) & \n",
    "    (full_df['concentrate_after_filtering'] > 1) & \n",
    "    (full_df['final_concentrate'] > 1)\n",
    "]\n",
    "\n",
    "cleaned_full_df.shape"
   ]
  },
  {
   "cell_type": "code",
   "execution_count": 95,
   "metadata": {},
   "outputs": [
    {
     "data": {
      "image/png": "[encoded data removed]",
      "text/plain": [
       "<Figure size 1134.75x600 with 1 Axes>"
      ]
     },
     "metadata": {},
     "output_type": "display_data"
    }
   ],
   "source": [
    "sns.displot(cleaned_full_df[['raw_material', 'draft_concentrate', \n",
    "                       'concentrate_after_filtering', 'final_concentrate']], \n",
    "            legend=True, \n",
    "            kde=True, \n",
    "            height=6, \n",
    "            aspect=1.5)\n",
    "plt.title('Summary concentration on the different stages (new dataset)', fontsize=16)\n",
    "plt.show()"
   ]
  },
  {
   "cell_type": "code",
   "execution_count": 96,
   "metadata": {},
   "outputs": [
    {
     "data": {
      "text/html": [
       "<div>\n",
       "<style scoped>\n",
       "    .dataframe tbody tr th:only-of-type {\n",
       "        vertical-align: middle;\n",
       "    }\n",
       "\n",
       "    .dataframe tbody tr th {\n",
       "        vertical-align: top;\n",
       "    }\n",
       "\n",
       "    .dataframe thead th {\n",
       "        text-align: right;\n",
       "    }\n",
       "</style>\n",
       "<table border=\"1\" class=\"dataframe\">\n",
       "  <thead>\n",
       "    <tr style=\"text-align: right;\">\n",
       "      <th></th>\n",
       "      <th>raw_material</th>\n",
       "      <th>draft_concentrate</th>\n",
       "      <th>concentrate_after_filtering</th>\n",
       "      <th>final_concentrate</th>\n",
       "    </tr>\n",
       "  </thead>\n",
       "  <tbody>\n",
       "    <tr>\n",
       "      <th>count</th>\n",
       "      <td>19575.000000</td>\n",
       "      <td>19575.000000</td>\n",
       "      <td>19575.000000</td>\n",
       "      <td>19575.000000</td>\n",
       "    </tr>\n",
       "    <tr>\n",
       "      <th>mean</th>\n",
       "      <td>20.733002</td>\n",
       "      <td>40.035789</td>\n",
       "      <td>50.757705</td>\n",
       "      <td>59.335867</td>\n",
       "    </tr>\n",
       "    <tr>\n",
       "      <th>std</th>\n",
       "      <td>4.637593</td>\n",
       "      <td>4.732761</td>\n",
       "      <td>5.546544</td>\n",
       "      <td>4.992355</td>\n",
       "    </tr>\n",
       "    <tr>\n",
       "      <th>min</th>\n",
       "      <td>1.130990</td>\n",
       "      <td>1.137053</td>\n",
       "      <td>1.037408</td>\n",
       "      <td>1.084495</td>\n",
       "    </tr>\n",
       "    <tr>\n",
       "      <th>25%</th>\n",
       "      <td>17.250835</td>\n",
       "      <td>38.494072</td>\n",
       "      <td>49.961182</td>\n",
       "      <td>59.235753</td>\n",
       "    </tr>\n",
       "    <tr>\n",
       "      <th>50%</th>\n",
       "      <td>20.219502</td>\n",
       "      <td>40.398724</td>\n",
       "      <td>51.853851</td>\n",
       "      <td>60.268208</td>\n",
       "    </tr>\n",
       "    <tr>\n",
       "      <th>75%</th>\n",
       "      <td>23.988143</td>\n",
       "      <td>42.493014</td>\n",
       "      <td>53.318204</td>\n",
       "      <td>61.066597</td>\n",
       "    </tr>\n",
       "    <tr>\n",
       "      <th>max</th>\n",
       "      <td>35.071987</td>\n",
       "      <td>55.568687</td>\n",
       "      <td>60.106566</td>\n",
       "      <td>65.575259</td>\n",
       "    </tr>\n",
       "  </tbody>\n",
       "</table>\n",
       "</div>"
      ],
      "text/plain": [
       "       raw_material  draft_concentrate  concentrate_after_filtering  \\\n",
       "count  19575.000000       19575.000000                 19575.000000   \n",
       "mean      20.733002          40.035789                    50.757705   \n",
       "std        4.637593           4.732761                     5.546544   \n",
       "min        1.130990           1.137053                     1.037408   \n",
       "25%       17.250835          38.494072                    49.961182   \n",
       "50%       20.219502          40.398724                    51.853851   \n",
       "75%       23.988143          42.493014                    53.318204   \n",
       "max       35.071987          55.568687                    60.106566   \n",
       "\n",
       "       final_concentrate  \n",
       "count       19575.000000  \n",
       "mean           59.335867  \n",
       "std             4.992355  \n",
       "min             1.084495  \n",
       "25%            59.235753  \n",
       "50%            60.268208  \n",
       "75%            61.066597  \n",
       "max            65.575259  "
      ]
     },
     "execution_count": 96,
     "metadata": {},
     "output_type": "execute_result"
    }
   ],
   "source": [
    "cleaned_full_df[['raw_material', 'draft_concentrate', 'concentrate_after_filtering', 'final_concentrate']].describe()\n"
   ]
  },
  {
   "cell_type": "code",
   "execution_count": 97,
   "metadata": {},
   "outputs": [
    {
     "name": "stdout",
     "output_type": "stream",
     "text": [
      "Train set (14335, 55)\n"
     ]
    }
   ],
   "source": [
    "train_clean = train_df[train_df['date'].isin(cleaned_full_df['date'])]\n",
    "train_clean.dropna(inplace=True)\n",
    "print('Train set', train_clean.shape)"
   ]
  },
  {
   "cell_type": "code",
   "execution_count": 98,
   "metadata": {},
   "outputs": [
    {
     "name": "stdout",
     "output_type": "stream",
     "text": [
      "Test set (5240, 55)\n"
     ]
    }
   ],
   "source": [
    "test_clean = test_df[test_df['date'].isin(cleaned_full_df['date'])]\n",
    "test_clean.dropna(inplace=True)\n",
    "print('Test set', test_clean.shape)"
   ]
  },
  {
   "cell_type": "markdown",
   "metadata": {},
   "source": [
    "## Building Models"
   ]
  },
  {
   "cell_type": "code",
   "execution_count": 99,
   "metadata": {},
   "outputs": [],
   "source": [
    "def total_smape(smape_rougher, smape_final):\n",
    "    final_result = 0.25 * smape_rougher + 0.75 * smape_final\n",
    "    return final_result"
   ]
  },
  {
   "cell_type": "code",
   "execution_count": 100,
   "metadata": {},
   "outputs": [],
   "source": [
    "#training set\n",
    "target_rougher_train = train_clean['rougher.output.recovery']\n",
    "target_final_train = train_clean['final.output.recovery']\n",
    "features_train = train_clean.drop(['date', 'rougher.output.recovery', 'final.output.recovery'], axis=1)\n",
    "\n",
    "#test set:\n",
    "target_rougher_test = test_clean['rougher.output.recovery']\n",
    "target_final_test = test_clean['final.output.recovery']\n",
    "features_test = test_clean.drop(['date', 'rougher.output.recovery', 'final.output.recovery'], axis=1)"
   ]
  },
  {
   "cell_type": "code",
   "execution_count": 101,
   "metadata": {},
   "outputs": [],
   "source": [
    "numeric = features_train.columns\n",
    "scaler = StandardScaler()\n",
    "scaler.fit(features_train[numeric])\n",
    "\n",
    "features_train[numeric] = scaler.transform(features_train[numeric])\n",
    "features_test[numeric] = scaler.transform(features_test[numeric])"
   ]
  },
  {
   "cell_type": "code",
   "execution_count": 102,
   "metadata": {},
   "outputs": [],
   "source": [
    "random_state = 12345\n",
    "cv = 5\n",
    "models = [DecisionTreeRegressor(random_state = random_state), \n",
    "          RandomForestRegressor(random_state=random_state), \n",
    "          LinearRegression()]"
   ]
  },
  {
   "cell_type": "code",
   "execution_count": 103,
   "metadata": {},
   "outputs": [],
   "source": [
    "#creating a function for sMAPE score:\n",
    "def smape_scorer(target, predictions):\n",
    "    smape = ((1 / len(target)) * (abs(target - predictions) / ((abs(target) + abs(predictions)) / 2))).sum() * 100\n",
    "    return smape"
   ]
  },
  {
   "cell_type": "code",
   "execution_count": 105,
   "metadata": {},
   "outputs": [],
   "source": [
    "#creating a function for scoring the model:\n",
    "def fit_and_check(model, params, train_df, df_target):\n",
    "    my_scorer = make_scorer(smape_scorer, greater_is_better=False)\n",
    "    clf = GridSearchCV(model, params, scoring=my_scorer, cv=5)\n",
    "    clf.fit(train_df, df_target)\n",
    "    \n",
    "    return clf.best_estimator_, clf.best_score_"
   ]
  },
  {
   "cell_type": "code",
   "execution_count": 106,
   "metadata": {},
   "outputs": [
    {
     "data": {
      "text/html": [
       "<div>\n",
       "<style scoped>\n",
       "    .dataframe tbody tr th:only-of-type {\n",
       "        vertical-align: middle;\n",
       "    }\n",
       "\n",
       "    .dataframe tbody tr th {\n",
       "        vertical-align: top;\n",
       "    }\n",
       "\n",
       "    .dataframe thead th {\n",
       "        text-align: right;\n",
       "    }\n",
       "</style>\n",
       "<table border=\"1\" class=\"dataframe\">\n",
       "  <thead>\n",
       "    <tr style=\"text-align: right;\">\n",
       "      <th></th>\n",
       "      <th>model name</th>\n",
       "      <th>cross_val_score_rougher</th>\n",
       "      <th>cross_val_score_final</th>\n",
       "    </tr>\n",
       "  </thead>\n",
       "  <tbody>\n",
       "    <tr>\n",
       "      <th>0</th>\n",
       "      <td>DecisionTreeRegressor</td>\n",
       "      <td>-13.595366</td>\n",
       "      <td>-21.790176</td>\n",
       "    </tr>\n",
       "    <tr>\n",
       "      <th>1</th>\n",
       "      <td>RandomForestRegressor</td>\n",
       "      <td>-7.899267</td>\n",
       "      <td>-10.783920</td>\n",
       "    </tr>\n",
       "    <tr>\n",
       "      <th>2</th>\n",
       "      <td>LinearRegression</td>\n",
       "      <td>-7.878660</td>\n",
       "      <td>-11.472744</td>\n",
       "    </tr>\n",
       "  </tbody>\n",
       "</table>\n",
       "</div>"
      ],
      "text/plain": [
       "              model name  cross_val_score_rougher  cross_val_score_final\n",
       "0  DecisionTreeRegressor               -13.595366             -21.790176\n",
       "1  RandomForestRegressor                -7.899267             -10.783920\n",
       "2       LinearRegression                -7.878660             -11.472744"
      ]
     },
     "execution_count": 106,
     "metadata": {},
     "output_type": "execute_result"
    }
   ],
   "source": [
    "results_cross_val = []\n",
    "\n",
    "for model in models:\n",
    "    \n",
    "    scorer = make_scorer(smape_scorer, greater_is_better=False) \n",
    "    \n",
    "    cross_val_score_rougher = cross_val_score(model, \n",
    "                                              features_train, \n",
    "                                              target_rougher_train, \n",
    "                                              cv=cv, scoring=scorer).mean()\n",
    "    cross_val_score_final = cross_val_score(model, \n",
    "                                            features_train, \n",
    "                                            target_final_train, \n",
    "                                            cv=cv, scoring=scorer).mean()\n",
    "\n",
    "    results_cross_val.append({'model name': model.__class__.__name__, \n",
    "                              'cross_val_score_rougher': cross_val_score_rougher, \n",
    "                              'cross_val_score_final': cross_val_score_final}) \n",
    "              \n",
    "pd.DataFrame(results_cross_val)"
   ]
  },
  {
   "cell_type": "markdown",
   "metadata": {},
   "source": [
    "Random forest turns out to be the best model. Let's tune some hyperparamters next."
   ]
  },
  {
   "cell_type": "code",
   "execution_count": 107,
   "metadata": {},
   "outputs": [
    {
     "data": {
      "text/html": [
       "<style  type=\"text/css\" >\n",
       "#T_a1822_row11_col2{\n",
       "            background-color:  lightgreen;\n",
       "        }</style><table id=\"T_a1822_\" ><thead>    <tr>        <th class=\"blank level0\" ></th>        <th class=\"col_heading level0 col0\" >model name</th>        <th class=\"col_heading level0 col1\" >Hyperparameters</th>        <th class=\"col_heading level0 col2\" >smape_final_result</th>    </tr></thead><tbody>\n",
       "                <tr>\n",
       "                        <th id=\"T_a1822_level0_row0\" class=\"row_heading level0 row0\" >0</th>\n",
       "                        <td id=\"T_a1822_row0_col0\" class=\"data row0 col0\" >RandomForestRegressor</td>\n",
       "                        <td id=\"T_a1822_row0_col1\" class=\"data row0 col1\" >{'random_state': 12345, 'n_estimators': 10, 'max_depth': 1}</td>\n",
       "                        <td id=\"T_a1822_row0_col2\" class=\"data row0 col2\" >-9.633839</td>\n",
       "            </tr>\n",
       "            <tr>\n",
       "                        <th id=\"T_a1822_level0_row1\" class=\"row_heading level0 row1\" >1</th>\n",
       "                        <td id=\"T_a1822_row1_col0\" class=\"data row1 col0\" >RandomForestRegressor</td>\n",
       "                        <td id=\"T_a1822_row1_col1\" class=\"data row1 col1\" >{'random_state': 12345, 'n_estimators': 15, 'max_depth': 1}</td>\n",
       "                        <td id=\"T_a1822_row1_col2\" class=\"data row1 col2\" >-9.633718</td>\n",
       "            </tr>\n",
       "            <tr>\n",
       "                        <th id=\"T_a1822_level0_row2\" class=\"row_heading level0 row2\" >2</th>\n",
       "                        <td id=\"T_a1822_row2_col0\" class=\"data row2 col0\" >RandomForestRegressor</td>\n",
       "                        <td id=\"T_a1822_row2_col1\" class=\"data row2 col1\" >{'random_state': 12345, 'n_estimators': 20, 'max_depth': 1}</td>\n",
       "                        <td id=\"T_a1822_row2_col2\" class=\"data row2 col2\" >-9.645140</td>\n",
       "            </tr>\n",
       "            <tr>\n",
       "                        <th id=\"T_a1822_level0_row3\" class=\"row_heading level0 row3\" >3</th>\n",
       "                        <td id=\"T_a1822_row3_col0\" class=\"data row3 col0\" >RandomForestRegressor</td>\n",
       "                        <td id=\"T_a1822_row3_col1\" class=\"data row3 col1\" >{'random_state': 12345, 'n_estimators': 10, 'max_depth': 2}</td>\n",
       "                        <td id=\"T_a1822_row3_col2\" class=\"data row3 col2\" >-9.276989</td>\n",
       "            </tr>\n",
       "            <tr>\n",
       "                        <th id=\"T_a1822_level0_row4\" class=\"row_heading level0 row4\" >4</th>\n",
       "                        <td id=\"T_a1822_row4_col0\" class=\"data row4 col0\" >RandomForestRegressor</td>\n",
       "                        <td id=\"T_a1822_row4_col1\" class=\"data row4 col1\" >{'random_state': 12345, 'n_estimators': 15, 'max_depth': 2}</td>\n",
       "                        <td id=\"T_a1822_row4_col2\" class=\"data row4 col2\" >-9.232788</td>\n",
       "            </tr>\n",
       "            <tr>\n",
       "                        <th id=\"T_a1822_level0_row5\" class=\"row_heading level0 row5\" >5</th>\n",
       "                        <td id=\"T_a1822_row5_col0\" class=\"data row5 col0\" >RandomForestRegressor</td>\n",
       "                        <td id=\"T_a1822_row5_col1\" class=\"data row5 col1\" >{'random_state': 12345, 'n_estimators': 20, 'max_depth': 2}</td>\n",
       "                        <td id=\"T_a1822_row5_col2\" class=\"data row5 col2\" >-9.247567</td>\n",
       "            </tr>\n",
       "            <tr>\n",
       "                        <th id=\"T_a1822_level0_row6\" class=\"row_heading level0 row6\" >6</th>\n",
       "                        <td id=\"T_a1822_row6_col0\" class=\"data row6 col0\" >RandomForestRegressor</td>\n",
       "                        <td id=\"T_a1822_row6_col1\" class=\"data row6 col1\" >{'random_state': 12345, 'n_estimators': 10, 'max_depth': 3}</td>\n",
       "                        <td id=\"T_a1822_row6_col2\" class=\"data row6 col2\" >-9.451703</td>\n",
       "            </tr>\n",
       "            <tr>\n",
       "                        <th id=\"T_a1822_level0_row7\" class=\"row_heading level0 row7\" >7</th>\n",
       "                        <td id=\"T_a1822_row7_col0\" class=\"data row7 col0\" >RandomForestRegressor</td>\n",
       "                        <td id=\"T_a1822_row7_col1\" class=\"data row7 col1\" >{'random_state': 12345, 'n_estimators': 15, 'max_depth': 3}</td>\n",
       "                        <td id=\"T_a1822_row7_col2\" class=\"data row7 col2\" >-9.399270</td>\n",
       "            </tr>\n",
       "            <tr>\n",
       "                        <th id=\"T_a1822_level0_row8\" class=\"row_heading level0 row8\" >8</th>\n",
       "                        <td id=\"T_a1822_row8_col0\" class=\"data row8 col0\" >RandomForestRegressor</td>\n",
       "                        <td id=\"T_a1822_row8_col1\" class=\"data row8 col1\" >{'random_state': 12345, 'n_estimators': 20, 'max_depth': 3}</td>\n",
       "                        <td id=\"T_a1822_row8_col2\" class=\"data row8 col2\" >-9.349372</td>\n",
       "            </tr>\n",
       "            <tr>\n",
       "                        <th id=\"T_a1822_level0_row9\" class=\"row_heading level0 row9\" >9</th>\n",
       "                        <td id=\"T_a1822_row9_col0\" class=\"data row9 col0\" >RandomForestRegressor</td>\n",
       "                        <td id=\"T_a1822_row9_col1\" class=\"data row9 col1\" >{'random_state': 12345, 'n_estimators': 10, 'max_depth': 4}</td>\n",
       "                        <td id=\"T_a1822_row9_col2\" class=\"data row9 col2\" >-9.324530</td>\n",
       "            </tr>\n",
       "            <tr>\n",
       "                        <th id=\"T_a1822_level0_row10\" class=\"row_heading level0 row10\" >10</th>\n",
       "                        <td id=\"T_a1822_row10_col0\" class=\"data row10 col0\" >RandomForestRegressor</td>\n",
       "                        <td id=\"T_a1822_row10_col1\" class=\"data row10 col1\" >{'random_state': 12345, 'n_estimators': 15, 'max_depth': 4}</td>\n",
       "                        <td id=\"T_a1822_row10_col2\" class=\"data row10 col2\" >-9.283856</td>\n",
       "            </tr>\n",
       "            <tr>\n",
       "                        <th id=\"T_a1822_level0_row11\" class=\"row_heading level0 row11\" >11</th>\n",
       "                        <td id=\"T_a1822_row11_col0\" class=\"data row11 col0\" >RandomForestRegressor</td>\n",
       "                        <td id=\"T_a1822_row11_col1\" class=\"data row11 col1\" >{'random_state': 12345, 'n_estimators': 20, 'max_depth': 4}</td>\n",
       "                        <td id=\"T_a1822_row11_col2\" class=\"data row11 col2\" >-9.204313</td>\n",
       "            </tr>\n",
       "    </tbody></table>"
      ],
      "text/plain": [
       "<pandas.io.formats.style.Styler at 0x7f30aa0ae5b0>"
      ]
     },
     "execution_count": 107,
     "metadata": {},
     "output_type": "execute_result"
    }
   ],
   "source": [
    "results = []\n",
    "\n",
    "for depth in range(1,5):\n",
    "    \n",
    "    for estimator in range(10, 21, 5):\n",
    "        \n",
    "        model = RandomForestRegressor(random_state=random_state, \n",
    "                                       n_estimators=estimator, \n",
    "                                       max_depth=depth)\n",
    "        \n",
    "        scorer = make_scorer(smape_scorer, greater_is_better=False) \n",
    "    \n",
    "        cross_val_score_rougher = cross_val_score(model, features_train, target_rougher_train, cv=cv, scoring=scorer).mean()\n",
    "        cross_val_score_final = cross_val_score(model, features_train, target_final_train, cv=cv, scoring=scorer).mean()\n",
    "\n",
    "        smape_final_result = total_smape(cross_val_score_rougher, cross_val_score_final)\n",
    "\n",
    "        results.append({'model name': model.__class__.__name__, \n",
    "                        'Hyperparameters': {'random_state': random_state, \n",
    "                                            'n_estimators': estimator, \n",
    "                                            'max_depth':depth}, \n",
    "                        'smape_final_result': smape_final_result})\n",
    "\n",
    "pd.DataFrame(results).style.highlight_max(color = 'lightgreen', axis = 0)"
   ]
  },
  {
   "cell_type": "markdown",
   "metadata": {},
   "source": [
    "As we see the best scoring has a Random Forest model. After checking it with hyperarameters I found out that the best result showed model with n_estimators=15 and max_depth=4"
   ]
  },
  {
   "cell_type": "markdown",
   "metadata": {},
   "source": [
    "## Best Model"
   ]
  },
  {
   "cell_type": "code",
   "execution_count": 108,
   "metadata": {},
   "outputs": [],
   "source": [
    "model_final = RandomForestRegressor(random_state=random_state, \n",
    "                                       n_estimators=15, \n",
    "                                       max_depth=4)\n",
    "\n",
    "model_final.fit(features_train, target_rougher_train)\n",
    "predictions_r = model_final.predict(features_test)\n",
    "\n",
    "model_final.fit(features_train, target_final_train)\n",
    "predictions_f = model_final.predict(features_test)"
   ]
  },
  {
   "cell_type": "code",
   "execution_count": 109,
   "metadata": {},
   "outputs": [
    {
     "name": "stdout",
     "output_type": "stream",
     "text": [
      "Final sMAPE: 7.774105909635919\n"
     ]
    }
   ],
   "source": [
    "smape_r = smape_scorer(target_rougher_test, predictions_r)\n",
    "smape_f = smape_scorer(target_final_test, predictions_f)\n",
    "\n",
    "print('Final sMAPE:', total_smape(smape_r, smape_f))"
   ]
  },
  {
   "cell_type": "code",
   "execution_count": 110,
   "metadata": {},
   "outputs": [
    {
     "data": {
      "text/plain": [
       "22716"
      ]
     },
     "execution_count": 110,
     "metadata": {},
     "output_type": "execute_result"
    }
   ],
   "source": [
    "len(train_df) + len(test_df)"
   ]
  },
  {
   "cell_type": "code",
   "execution_count": 111,
   "metadata": {},
   "outputs": [],
   "source": [
    "dummy_regr = DummyRegressor(strategy='mean')\n",
    "\n",
    "dummy_regr.fit(features_train, target_rougher_train)\n",
    "predictions_r_dummy = dummy_regr.predict(features_test)\n",
    "\n",
    "dummy_regr.fit(features_train, target_final_train)\n",
    "predictions_f_dummy = dummy_regr.predict(features_test)"
   ]
  },
  {
   "cell_type": "code",
   "execution_count": 55,
   "metadata": {},
   "outputs": [
    {
     "name": "stdout",
     "output_type": "stream",
     "text": [
      "Final sMAPE 8.735114730782414\n"
     ]
    }
   ],
   "source": [
    "\n",
    "smape_r_dummy = smape_scorer(target_rougher_test, predictions_r_dummy)\n",
    "smape_f_dummy = smape_scorer(target_final_test, predictions_f_dummy)\n",
    "\n",
    "print('Final sMAPE', total_smape(smape_r_dummy, smape_f_dummy))"
   ]
  },
  {
   "cell_type": "markdown",
   "metadata": {},
   "source": [
    "Random Forest still shows best results. The sanity check was also succesful."
   ]
  },
  {
   "cell_type": "markdown",
   "metadata": {},
   "source": [
    "## Conclusion"
   ]
  },
  {
   "cell_type": "markdown",
   "metadata": {},
   "source": [
    "The project's goal of creating a prototype of a machine learning model that can predict the recovery rate of gold from gold ore has been met. The data was processed and analyzed during the project, and a random forest model was built and trained as a result. The final model outperforms the constant model: the trained model's error is 7.7%, while the constant model's error is 7.9%. During the project, the following steps were taken:\n",
    "\n",
    "read and analyzed the data (prepared an EDA report for each dataset)\n",
    "data that has been pre-processed (processing missing values, replacing data type, checking for duplicates)\n",
    "double-checked the enrichment efficiency calculation.\n",
    "investigated how metal concentrations (Au, Ag, Pb) change during the purification process. We can conclude that the concentration of each metal varies depending on the stage of purification: gold concentration gradually increases with each stage, silver concentration decreases, and lead concentration increases in the first three stages.\n",
    "performed a granule size analysis on the training and test sets to ensure that the granule sizes are roughly evenly distributed in the training and test sets.\n",
    "examined the total concentration of all metals at various stages, identifying and removing anomalies (a large number of zeros) from all datasets.\n",
    "created functions to compute sMAPE and final sMAPE\n",
    "compared the performance of various models (DecisionTreeRegressor (), RandomForestRegressor, LinearRegression) and how the best random forest model was selected using the hyperparameters n estimators = 15 and max depth = 4. The final model's work was tested on a test sample, and it performed well: the trained model's error is 7.7%, while the constant error is 7.9%."
   ]
  },
  {
   "cell_type": "code",
   "execution_count": null,
   "metadata": {},
   "outputs": [],
   "source": []
  }
 ],
 "metadata": {
  "ExecuteTimeLog": [
   {
    "duration": 457,
    "start_time": "2024-07-22T21:47:35.452Z"
   },
   {
    "duration": 1053,
    "start_time": "2024-07-22T21:48:07.681Z"
   },
   {
    "duration": 119,
    "start_time": "2024-07-22T21:48:12.634Z"
   },
   {
    "duration": 127,
    "start_time": "2024-07-22T21:48:30.788Z"
   },
   {
    "duration": 121,
    "start_time": "2024-07-22T21:49:18.564Z"
   },
   {
    "duration": 133,
    "start_time": "2024-07-22T21:50:17.301Z"
   },
   {
    "duration": 1007,
    "start_time": "2024-07-22T21:50:57.146Z"
   },
   {
    "duration": 23,
    "start_time": "2024-07-22T21:51:12.001Z"
   },
   {
    "duration": 17,
    "start_time": "2024-07-22T21:51:42.465Z"
   },
   {
    "duration": 23,
    "start_time": "2024-07-22T21:51:51.033Z"
   },
   {
    "duration": 832,
    "start_time": "2024-07-22T21:51:56.282Z"
   },
   {
    "duration": 31,
    "start_time": "2024-07-22T21:51:57.117Z"
   },
   {
    "duration": 18,
    "start_time": "2024-07-22T21:51:57.268Z"
   },
   {
    "duration": 19,
    "start_time": "2024-07-22T21:51:57.918Z"
   },
   {
    "duration": 24,
    "start_time": "2024-07-22T21:52:02.531Z"
   },
   {
    "duration": 24,
    "start_time": "2024-07-22T22:03:47.194Z"
   },
   {
    "duration": 19,
    "start_time": "2024-07-22T22:04:07.478Z"
   },
   {
    "duration": 22,
    "start_time": "2024-07-22T22:04:16.287Z"
   },
   {
    "duration": 12,
    "start_time": "2024-07-22T22:04:24.798Z"
   },
   {
    "duration": 9,
    "start_time": "2024-07-22T22:04:47.351Z"
   },
   {
    "duration": 7,
    "start_time": "2024-07-22T22:04:58.673Z"
   },
   {
    "duration": 11,
    "start_time": "2024-07-22T22:06:54.410Z"
   },
   {
    "duration": 12,
    "start_time": "2024-07-22T22:07:50.521Z"
   },
   {
    "duration": 9,
    "start_time": "2024-07-22T22:08:23.932Z"
   },
   {
    "duration": 33,
    "start_time": "2024-07-22T22:08:58.912Z"
   },
   {
    "duration": 25,
    "start_time": "2024-07-22T22:09:19.506Z"
   },
   {
    "duration": 17,
    "start_time": "2024-07-22T22:09:28.217Z"
   },
   {
    "duration": 22,
    "start_time": "2024-07-22T22:09:33.841Z"
   },
   {
    "duration": 27,
    "start_time": "2024-07-22T22:23:37.296Z"
   },
   {
    "duration": 38,
    "start_time": "2024-07-22T22:23:44.469Z"
   },
   {
    "duration": 38,
    "start_time": "2024-07-22T22:24:02.919Z"
   },
   {
    "duration": 36,
    "start_time": "2024-07-22T22:24:34.809Z"
   },
   {
    "duration": 9,
    "start_time": "2024-07-22T22:26:53.418Z"
   },
   {
    "duration": 9,
    "start_time": "2024-07-22T22:27:16.302Z"
   },
   {
    "duration": 29,
    "start_time": "2024-07-22T22:27:50.895Z"
   },
   {
    "duration": 28,
    "start_time": "2024-07-22T22:29:09.450Z"
   },
   {
    "duration": 9,
    "start_time": "2024-07-22T22:29:15.365Z"
   },
   {
    "duration": 0,
    "start_time": "2024-07-22T22:29:15.377Z"
   },
   {
    "duration": 0,
    "start_time": "2024-07-22T22:29:15.380Z"
   },
   {
    "duration": 0,
    "start_time": "2024-07-22T22:29:15.382Z"
   },
   {
    "duration": 0,
    "start_time": "2024-07-22T22:29:15.384Z"
   },
   {
    "duration": 0,
    "start_time": "2024-07-22T22:29:15.387Z"
   },
   {
    "duration": 0,
    "start_time": "2024-07-22T22:29:15.389Z"
   },
   {
    "duration": 0,
    "start_time": "2024-07-22T22:29:15.390Z"
   },
   {
    "duration": 0,
    "start_time": "2024-07-22T22:29:15.393Z"
   },
   {
    "duration": 0,
    "start_time": "2024-07-22T22:29:15.395Z"
   },
   {
    "duration": 0,
    "start_time": "2024-07-22T22:29:15.398Z"
   },
   {
    "duration": 0,
    "start_time": "2024-07-22T22:29:15.400Z"
   },
   {
    "duration": 0,
    "start_time": "2024-07-22T22:29:15.403Z"
   },
   {
    "duration": 0,
    "start_time": "2024-07-22T22:29:15.405Z"
   },
   {
    "duration": 0,
    "start_time": "2024-07-22T22:29:15.407Z"
   },
   {
    "duration": 19,
    "start_time": "2024-07-22T22:29:15.434Z"
   },
   {
    "duration": 78,
    "start_time": "2024-07-22T22:29:15.456Z"
   },
   {
    "duration": 723,
    "start_time": "2024-07-22T22:29:32.524Z"
   },
   {
    "duration": 4,
    "start_time": "2024-07-22T22:29:36.115Z"
   },
   {
    "duration": 3,
    "start_time": "2024-07-22T22:29:39.446Z"
   },
   {
    "duration": 834,
    "start_time": "2024-07-22T22:29:39.454Z"
   },
   {
    "duration": 22,
    "start_time": "2024-07-22T22:29:40.293Z"
   },
   {
    "duration": 33,
    "start_time": "2024-07-22T22:29:40.318Z"
   },
   {
    "duration": 22,
    "start_time": "2024-07-22T22:29:40.355Z"
   },
   {
    "duration": 20,
    "start_time": "2024-07-22T22:29:40.380Z"
   },
   {
    "duration": 8,
    "start_time": "2024-07-22T22:29:40.435Z"
   },
   {
    "duration": 11,
    "start_time": "2024-07-22T22:29:40.446Z"
   },
   {
    "duration": 8,
    "start_time": "2024-07-22T22:29:40.460Z"
   },
   {
    "duration": 11,
    "start_time": "2024-07-22T22:29:40.472Z"
   },
   {
    "duration": 9,
    "start_time": "2024-07-22T22:29:40.534Z"
   },
   {
    "duration": 10,
    "start_time": "2024-07-22T22:29:40.546Z"
   },
   {
    "duration": 28,
    "start_time": "2024-07-22T22:29:40.559Z"
   },
   {
    "duration": 62,
    "start_time": "2024-07-22T22:29:40.590Z"
   },
   {
    "duration": 20,
    "start_time": "2024-07-22T22:29:40.655Z"
   },
   {
    "duration": 21,
    "start_time": "2024-07-22T22:29:40.678Z"
   },
   {
    "duration": 38,
    "start_time": "2024-07-22T22:29:40.704Z"
   },
   {
    "duration": 11,
    "start_time": "2024-07-22T22:29:48.253Z"
   },
   {
    "duration": 7,
    "start_time": "2024-07-22T22:30:04.157Z"
   },
   {
    "duration": 7,
    "start_time": "2024-07-22T22:30:09.612Z"
   },
   {
    "duration": 11,
    "start_time": "2024-07-22T22:30:30.192Z"
   },
   {
    "duration": 307,
    "start_time": "2024-07-22T23:07:59.120Z"
   },
   {
    "duration": 1111,
    "start_time": "2024-07-22T23:08:06.484Z"
   },
   {
    "duration": 916,
    "start_time": "2024-07-22T23:08:07.598Z"
   },
   {
    "duration": 29,
    "start_time": "2024-07-22T23:08:08.516Z"
   },
   {
    "duration": 17,
    "start_time": "2024-07-22T23:08:08.548Z"
   },
   {
    "duration": 55,
    "start_time": "2024-07-22T23:08:08.572Z"
   },
   {
    "duration": 21,
    "start_time": "2024-07-22T23:08:08.630Z"
   },
   {
    "duration": 12,
    "start_time": "2024-07-22T23:08:08.654Z"
   },
   {
    "duration": 10,
    "start_time": "2024-07-22T23:08:08.669Z"
   },
   {
    "duration": 44,
    "start_time": "2024-07-22T23:08:08.683Z"
   },
   {
    "duration": 12,
    "start_time": "2024-07-22T23:08:08.730Z"
   },
   {
    "duration": 9,
    "start_time": "2024-07-22T23:08:08.744Z"
   },
   {
    "duration": 10,
    "start_time": "2024-07-22T23:08:08.756Z"
   },
   {
    "duration": 81,
    "start_time": "2024-07-22T23:08:08.769Z"
   },
   {
    "duration": 21,
    "start_time": "2024-07-22T23:08:08.856Z"
   },
   {
    "duration": 44,
    "start_time": "2024-07-22T23:08:08.880Z"
   },
   {
    "duration": 21,
    "start_time": "2024-07-22T23:08:08.927Z"
   },
   {
    "duration": 11,
    "start_time": "2024-07-22T23:08:08.950Z"
   },
   {
    "duration": 161,
    "start_time": "2024-07-22T23:08:08.964Z"
   },
   {
    "duration": 25,
    "start_time": "2024-07-22T23:08:15.776Z"
   },
   {
    "duration": 28,
    "start_time": "2024-07-22T23:08:36.689Z"
   },
   {
    "duration": 46,
    "start_time": "2024-07-22T23:08:40.753Z"
   },
   {
    "duration": 41,
    "start_time": "2024-07-22T23:09:52.933Z"
   },
   {
    "duration": 3,
    "start_time": "2024-07-22T23:11:18.112Z"
   },
   {
    "duration": 4,
    "start_time": "2024-07-22T23:18:16.394Z"
   },
   {
    "duration": 5,
    "start_time": "2024-07-22T23:26:10.246Z"
   },
   {
    "duration": 22,
    "start_time": "2024-07-22T23:26:57.229Z"
   },
   {
    "duration": 23,
    "start_time": "2024-07-22T23:27:12.410Z"
   },
   {
    "duration": 5,
    "start_time": "2024-07-22T23:27:17.563Z"
   },
   {
    "duration": 21,
    "start_time": "2024-07-22T23:27:18.491Z"
   },
   {
    "duration": 4151,
    "start_time": "2024-07-22T23:27:40.822Z"
   },
   {
    "duration": 4,
    "start_time": "2024-07-22T23:28:32.125Z"
   },
   {
    "duration": 323,
    "start_time": "2024-07-22T23:28:41.725Z"
   },
   {
    "duration": 331,
    "start_time": "2024-07-22T23:29:28.235Z"
   },
   {
    "duration": 350,
    "start_time": "2024-07-22T23:29:43.122Z"
   },
   {
    "duration": 6,
    "start_time": "2024-07-22T23:30:58.679Z"
   },
   {
    "duration": 398,
    "start_time": "2024-07-22T23:31:00.578Z"
   },
   {
    "duration": 368,
    "start_time": "2024-07-22T23:31:01.784Z"
   },
   {
    "duration": 461,
    "start_time": "2024-07-22T23:31:02.156Z"
   },
   {
    "duration": 390,
    "start_time": "2024-07-22T23:38:11.474Z"
   },
   {
    "duration": 415,
    "start_time": "2024-07-22T23:38:33.581Z"
   },
   {
    "duration": 25,
    "start_time": "2024-07-22T23:38:58.661Z"
   },
   {
    "duration": 12,
    "start_time": "2024-07-22T23:39:27.551Z"
   },
   {
    "duration": 10,
    "start_time": "2024-07-22T23:39:36.606Z"
   },
   {
    "duration": 4,
    "start_time": "2024-07-22T23:59:11.512Z"
   },
   {
    "duration": 28,
    "start_time": "2024-07-23T00:00:01.830Z"
   },
   {
    "duration": 268,
    "start_time": "2024-07-23T00:00:46.007Z"
   },
   {
    "duration": 235,
    "start_time": "2024-07-23T00:01:17.941Z"
   },
   {
    "duration": 260,
    "start_time": "2024-07-23T00:02:01.966Z"
   },
   {
    "duration": 167,
    "start_time": "2024-07-23T00:03:25.759Z"
   },
   {
    "duration": 160,
    "start_time": "2024-07-23T00:03:58.979Z"
   },
   {
    "duration": 271,
    "start_time": "2024-07-23T00:04:19.966Z"
   },
   {
    "duration": 310,
    "start_time": "2024-07-23T16:51:25.069Z"
   },
   {
    "duration": 5076,
    "start_time": "2024-07-23T16:51:32.753Z"
   },
   {
    "duration": 936,
    "start_time": "2024-07-23T16:51:37.833Z"
   },
   {
    "duration": 26,
    "start_time": "2024-07-23T16:51:38.772Z"
   },
   {
    "duration": 44,
    "start_time": "2024-07-23T16:51:38.801Z"
   },
   {
    "duration": 30,
    "start_time": "2024-07-23T16:51:38.850Z"
   },
   {
    "duration": 22,
    "start_time": "2024-07-23T16:51:38.883Z"
   },
   {
    "duration": 35,
    "start_time": "2024-07-23T16:51:38.907Z"
   },
   {
    "duration": 9,
    "start_time": "2024-07-23T16:51:38.946Z"
   },
   {
    "duration": 9,
    "start_time": "2024-07-23T16:51:38.958Z"
   },
   {
    "duration": 13,
    "start_time": "2024-07-23T16:51:38.971Z"
   },
   {
    "duration": 9,
    "start_time": "2024-07-23T16:51:39.035Z"
   },
   {
    "duration": 10,
    "start_time": "2024-07-23T16:51:39.047Z"
   },
   {
    "duration": 32,
    "start_time": "2024-07-23T16:51:39.060Z"
   },
   {
    "duration": 22,
    "start_time": "2024-07-23T16:51:39.134Z"
   },
   {
    "duration": 19,
    "start_time": "2024-07-23T16:51:39.159Z"
   },
   {
    "duration": 52,
    "start_time": "2024-07-23T16:51:39.182Z"
   },
   {
    "duration": 11,
    "start_time": "2024-07-23T16:51:39.237Z"
   },
   {
    "duration": 43,
    "start_time": "2024-07-23T16:51:39.251Z"
   },
   {
    "duration": 36,
    "start_time": "2024-07-23T16:51:39.297Z"
   },
   {
    "duration": 425,
    "start_time": "2024-07-23T16:51:39.336Z"
   },
   {
    "duration": 380,
    "start_time": "2024-07-23T16:51:39.764Z"
   },
   {
    "duration": 390,
    "start_time": "2024-07-23T16:51:40.147Z"
   },
   {
    "duration": 413,
    "start_time": "2024-07-23T16:51:40.540Z"
   },
   {
    "duration": 15,
    "start_time": "2024-07-23T16:51:40.958Z"
   },
   {
    "duration": 17,
    "start_time": "2024-07-23T16:51:40.976Z"
   },
   {
    "duration": 38,
    "start_time": "2024-07-23T16:51:40.996Z"
   },
   {
    "duration": 28,
    "start_time": "2024-07-23T16:51:41.040Z"
   },
   {
    "duration": 274,
    "start_time": "2024-07-23T16:51:41.071Z"
   },
   {
    "duration": 274,
    "start_time": "2024-07-23T16:51:41.347Z"
   },
   {
    "duration": 257,
    "start_time": "2024-07-23T16:51:41.624Z"
   },
   {
    "duration": 178,
    "start_time": "2024-07-23T16:51:41.884Z"
   },
   {
    "duration": 269,
    "start_time": "2024-07-23T16:51:42.065Z"
   },
   {
    "duration": 199,
    "start_time": "2024-07-23T16:51:42.337Z"
   },
   {
    "duration": 7,
    "start_time": "2024-07-23T16:52:53.441Z"
   },
   {
    "duration": 4,
    "start_time": "2024-07-23T16:53:51.297Z"
   },
   {
    "duration": 185,
    "start_time": "2024-07-23T16:55:26.936Z"
   },
   {
    "duration": 177,
    "start_time": "2024-07-23T16:56:00.924Z"
   },
   {
    "duration": 4,
    "start_time": "2024-07-23T16:56:50.170Z"
   },
   {
    "duration": 127,
    "start_time": "2024-07-23T17:01:19.395Z"
   },
   {
    "duration": 7,
    "start_time": "2024-07-23T17:01:28.629Z"
   },
   {
    "duration": 174,
    "start_time": "2024-07-23T17:03:47.856Z"
   },
   {
    "duration": 185,
    "start_time": "2024-07-23T17:03:56.394Z"
   },
   {
    "duration": 3,
    "start_time": "2024-07-23T17:04:03.952Z"
   },
   {
    "duration": 166,
    "start_time": "2024-07-23T17:04:04.661Z"
   },
   {
    "duration": 163,
    "start_time": "2024-07-23T17:04:22.284Z"
   },
   {
    "duration": 3,
    "start_time": "2024-07-23T17:04:37.010Z"
   },
   {
    "duration": 156,
    "start_time": "2024-07-23T17:04:37.480Z"
   },
   {
    "duration": 159,
    "start_time": "2024-07-23T17:04:37.963Z"
   },
   {
    "duration": 163,
    "start_time": "2024-07-23T17:04:59.354Z"
   },
   {
    "duration": 168,
    "start_time": "2024-07-23T17:05:07.834Z"
   },
   {
    "duration": 7,
    "start_time": "2024-07-23T17:12:16.917Z"
   },
   {
    "duration": 3,
    "start_time": "2024-07-23T17:12:52.402Z"
   },
   {
    "duration": 169,
    "start_time": "2024-07-23T17:14:10.796Z"
   },
   {
    "duration": 282,
    "start_time": "2024-07-23T17:15:07.392Z"
   },
   {
    "duration": 189,
    "start_time": "2024-07-23T17:15:16.815Z"
   },
   {
    "duration": 84,
    "start_time": "2024-07-23T17:28:19.428Z"
   },
   {
    "duration": 72,
    "start_time": "2024-07-23T17:28:53.511Z"
   },
   {
    "duration": 250,
    "start_time": "2024-07-23T17:29:40.076Z"
   },
   {
    "duration": 66,
    "start_time": "2024-07-23T17:29:49.378Z"
   },
   {
    "duration": 235,
    "start_time": "2024-07-23T17:30:15.581Z"
   },
   {
    "duration": 51,
    "start_time": "2024-07-23T17:30:56.288Z"
   },
   {
    "duration": 52,
    "start_time": "2024-07-23T17:31:34.567Z"
   },
   {
    "duration": 247,
    "start_time": "2024-07-23T17:31:43.523Z"
   },
   {
    "duration": 240,
    "start_time": "2024-07-23T17:31:50.111Z"
   },
   {
    "duration": 241,
    "start_time": "2024-07-23T17:32:13.376Z"
   },
   {
    "duration": 25,
    "start_time": "2024-07-23T17:48:30.403Z"
   },
   {
    "duration": 9,
    "start_time": "2024-07-23T17:50:50.162Z"
   },
   {
    "duration": 26,
    "start_time": "2024-07-23T17:52:31.414Z"
   },
   {
    "duration": 27,
    "start_time": "2024-07-23T17:52:37.226Z"
   },
   {
    "duration": 21,
    "start_time": "2024-07-23T17:52:40.906Z"
   },
   {
    "duration": 12,
    "start_time": "2024-07-23T17:53:24.849Z"
   },
   {
    "duration": 35,
    "start_time": "2024-07-23T17:53:33.681Z"
   },
   {
    "duration": 19,
    "start_time": "2024-07-23T18:03:57.033Z"
   },
   {
    "duration": 9,
    "start_time": "2024-07-23T18:07:27.836Z"
   },
   {
    "duration": 31,
    "start_time": "2024-07-23T18:10:31.644Z"
   },
   {
    "duration": 59,
    "start_time": "2024-07-23T18:11:10.442Z"
   },
   {
    "duration": 51,
    "start_time": "2024-07-23T18:11:15.881Z"
   },
   {
    "duration": 34,
    "start_time": "2024-07-23T18:14:47.810Z"
   },
   {
    "duration": 6,
    "start_time": "2024-07-23T18:17:47.333Z"
   },
   {
    "duration": 338,
    "start_time": "2024-07-23T18:18:02.311Z"
   },
   {
    "duration": 396,
    "start_time": "2024-07-23T18:18:15.556Z"
   },
   {
    "duration": 10315,
    "start_time": "2024-07-23T18:25:35.839Z"
   },
   {
    "duration": 10285,
    "start_time": "2024-07-23T18:26:11.789Z"
   },
   {
    "duration": 6,
    "start_time": "2024-07-23T18:28:29.400Z"
   },
   {
    "duration": 350,
    "start_time": "2024-07-23T18:28:30.185Z"
   },
   {
    "duration": 61479,
    "start_time": "2024-07-23T18:31:42.050Z"
   },
   {
    "duration": 2906,
    "start_time": "2024-07-23T18:37:26.373Z"
   },
   {
    "duration": 2904,
    "start_time": "2024-07-23T18:37:39.323Z"
   },
   {
    "duration": 5198,
    "start_time": "2024-07-31T18:25:59.729Z"
   },
   {
    "duration": 934,
    "start_time": "2024-07-31T18:26:04.931Z"
   },
   {
    "duration": 4,
    "start_time": "2024-07-31T18:30:21.108Z"
   },
   {
    "duration": 19,
    "start_time": "2024-07-31T18:31:11.594Z"
   },
   {
    "duration": 20,
    "start_time": "2024-07-31T18:31:36.866Z"
   },
   {
    "duration": 6,
    "start_time": "2024-07-31T18:32:37.350Z"
   },
   {
    "duration": 486,
    "start_time": "2024-07-31T18:38:26.408Z"
   },
   {
    "duration": 8,
    "start_time": "2024-07-31T18:38:39.799Z"
   },
   {
    "duration": 6,
    "start_time": "2024-07-31T18:41:24.595Z"
   },
   {
    "duration": 17,
    "start_time": "2024-07-31T18:41:50.781Z"
   },
   {
    "duration": 23,
    "start_time": "2024-07-31T18:42:03.948Z"
   },
   {
    "duration": 4,
    "start_time": "2024-07-31T18:43:03.964Z"
   },
   {
    "duration": 5,
    "start_time": "2024-07-31T18:43:18.723Z"
   },
   {
    "duration": 42,
    "start_time": "2024-07-31T18:43:21.843Z"
   },
   {
    "duration": 18,
    "start_time": "2024-07-31T18:46:42.561Z"
   },
   {
    "duration": 28,
    "start_time": "2024-07-31T18:46:49.317Z"
   },
   {
    "duration": 12,
    "start_time": "2024-07-31T18:47:12.976Z"
   },
   {
    "duration": 9,
    "start_time": "2024-07-31T18:47:37.843Z"
   },
   {
    "duration": 11,
    "start_time": "2024-07-31T18:47:48.708Z"
   },
   {
    "duration": 10,
    "start_time": "2024-07-31T18:48:00.450Z"
   },
   {
    "duration": 40,
    "start_time": "2024-07-31T18:48:47.198Z"
   },
   {
    "duration": 10,
    "start_time": "2024-07-31T18:48:55.356Z"
   },
   {
    "duration": 9,
    "start_time": "2024-07-31T18:49:08.103Z"
   },
   {
    "duration": 4,
    "start_time": "2024-07-31T18:49:33.815Z"
   },
   {
    "duration": 6,
    "start_time": "2024-07-31T18:54:11.800Z"
   },
   {
    "duration": 6,
    "start_time": "2024-07-31T18:54:52.452Z"
   },
   {
    "duration": 2962,
    "start_time": "2024-07-31T18:55:10.922Z"
   },
   {
    "duration": 3623,
    "start_time": "2024-07-31T18:56:10.286Z"
   },
   {
    "duration": 3142,
    "start_time": "2024-07-31T18:58:32.975Z"
   },
   {
    "duration": 738,
    "start_time": "2024-07-31T19:01:17.927Z"
   },
   {
    "duration": 826,
    "start_time": "2024-07-31T19:01:25.227Z"
   },
   {
    "duration": 8,
    "start_time": "2024-07-31T19:02:54.390Z"
   },
   {
    "duration": 44,
    "start_time": "2024-07-31T19:03:45.926Z"
   },
   {
    "duration": 5,
    "start_time": "2024-07-31T19:22:32.356Z"
   },
   {
    "duration": 9,
    "start_time": "2024-07-31T19:22:38.152Z"
   },
   {
    "duration": 36,
    "start_time": "2024-07-31T19:22:41.785Z"
   },
   {
    "duration": 2655,
    "start_time": "2024-07-31T19:23:51.086Z"
   },
   {
    "duration": 22,
    "start_time": "2024-07-31T19:27:08.217Z"
   },
   {
    "duration": 14,
    "start_time": "2024-07-31T19:28:55.362Z"
   },
   {
    "duration": 2645,
    "start_time": "2024-07-31T19:30:03.067Z"
   },
   {
    "duration": 29,
    "start_time": "2024-07-31T19:30:24.071Z"
   },
   {
    "duration": 26,
    "start_time": "2024-07-31T19:33:18.233Z"
   },
   {
    "duration": 17,
    "start_time": "2024-07-31T19:33:28.347Z"
   },
   {
    "duration": 12,
    "start_time": "2024-07-31T19:34:04.071Z"
   },
   {
    "duration": 4,
    "start_time": "2024-07-31T19:34:30.336Z"
   },
   {
    "duration": 10,
    "start_time": "2024-07-31T19:34:48.846Z"
   },
   {
    "duration": 32,
    "start_time": "2024-07-31T19:35:02.588Z"
   },
   {
    "duration": 4,
    "start_time": "2024-07-31T19:35:35.214Z"
   },
   {
    "duration": 6,
    "start_time": "2024-07-31T19:35:37.748Z"
   },
   {
    "duration": 5,
    "start_time": "2024-07-31T19:35:48.619Z"
   },
   {
    "duration": 11,
    "start_time": "2024-07-31T19:35:59.403Z"
   },
   {
    "duration": 6,
    "start_time": "2024-07-31T19:53:22.423Z"
   },
   {
    "duration": 785,
    "start_time": "2024-07-31T19:53:23.373Z"
   },
   {
    "duration": 24,
    "start_time": "2024-07-31T19:53:25.069Z"
   },
   {
    "duration": 5,
    "start_time": "2024-07-31T19:53:25.810Z"
   },
   {
    "duration": 18,
    "start_time": "2024-07-31T19:53:26.363Z"
   },
   {
    "duration": 23,
    "start_time": "2024-07-31T19:53:26.635Z"
   },
   {
    "duration": 5,
    "start_time": "2024-07-31T19:53:27.853Z"
   },
   {
    "duration": 13,
    "start_time": "2024-07-31T19:53:28.238Z"
   },
   {
    "duration": 16,
    "start_time": "2024-07-31T19:53:28.580Z"
   },
   {
    "duration": 6,
    "start_time": "2024-07-31T19:53:28.892Z"
   },
   {
    "duration": 7,
    "start_time": "2024-07-31T19:53:29.370Z"
   },
   {
    "duration": 6,
    "start_time": "2024-07-31T19:53:30.634Z"
   },
   {
    "duration": 17,
    "start_time": "2024-07-31T19:53:30.872Z"
   },
   {
    "duration": 41,
    "start_time": "2024-07-31T19:53:31.124Z"
   },
   {
    "duration": 19,
    "start_time": "2024-07-31T19:53:32.394Z"
   },
   {
    "duration": 27,
    "start_time": "2024-07-31T19:53:32.710Z"
   },
   {
    "duration": 12,
    "start_time": "2024-07-31T19:53:33.084Z"
   },
   {
    "duration": 8,
    "start_time": "2024-07-31T19:53:33.683Z"
   },
   {
    "duration": 11,
    "start_time": "2024-07-31T19:53:34.008Z"
   },
   {
    "duration": 10,
    "start_time": "2024-07-31T19:53:34.449Z"
   },
   {
    "duration": 39,
    "start_time": "2024-07-31T19:53:34.962Z"
   },
   {
    "duration": 10,
    "start_time": "2024-07-31T19:53:35.512Z"
   },
   {
    "duration": 9,
    "start_time": "2024-07-31T19:53:35.891Z"
   },
   {
    "duration": 4,
    "start_time": "2024-07-31T19:53:36.531Z"
   },
   {
    "duration": 7,
    "start_time": "2024-07-31T19:53:37.852Z"
   },
   {
    "duration": 6,
    "start_time": "2024-07-31T19:53:38.316Z"
   },
   {
    "duration": 2867,
    "start_time": "2024-07-31T19:53:38.780Z"
   },
   {
    "duration": 3370,
    "start_time": "2024-07-31T19:53:41.651Z"
   },
   {
    "duration": 2905,
    "start_time": "2024-07-31T19:53:45.027Z"
   },
   {
    "duration": 892,
    "start_time": "2024-07-31T19:53:47.936Z"
   },
   {
    "duration": 4,
    "start_time": "2024-07-31T19:53:50.534Z"
   },
   {
    "duration": 40,
    "start_time": "2024-07-31T19:53:51.194Z"
   },
   {
    "duration": 31,
    "start_time": "2024-07-31T19:53:51.536Z"
   },
   {
    "duration": 2870,
    "start_time": "2024-07-31T19:53:51.997Z"
   },
   {
    "duration": 21,
    "start_time": "2024-07-31T19:53:55.504Z"
   },
   {
    "duration": 13,
    "start_time": "2024-07-31T19:53:56.392Z"
   },
   {
    "duration": 2278,
    "start_time": "2024-07-31T19:53:57.098Z"
   },
   {
    "duration": 28,
    "start_time": "2024-07-31T19:54:00.221Z"
   },
   {
    "duration": 15,
    "start_time": "2024-07-31T19:54:00.732Z"
   },
   {
    "duration": 10,
    "start_time": "2024-07-31T19:54:01.388Z"
   },
   {
    "duration": 4,
    "start_time": "2024-07-31T19:54:02.491Z"
   },
   {
    "duration": 9,
    "start_time": "2024-07-31T19:54:03.301Z"
   },
   {
    "duration": 31,
    "start_time": "2024-07-31T19:54:04.094Z"
   },
   {
    "duration": 4,
    "start_time": "2024-07-31T19:54:05.125Z"
   },
   {
    "duration": 4,
    "start_time": "2024-07-31T19:54:05.441Z"
   },
   {
    "duration": 5,
    "start_time": "2024-07-31T19:54:05.865Z"
   },
   {
    "duration": 8,
    "start_time": "2024-07-31T19:54:07.704Z"
   },
   {
    "duration": 0,
    "start_time": "2024-07-31T20:08:13.142Z"
   },
   {
    "duration": 0,
    "start_time": "2024-07-31T20:08:13.153Z"
   },
   {
    "duration": 6,
    "start_time": "2024-07-31T20:08:17.030Z"
   },
   {
    "duration": 755,
    "start_time": "2024-07-31T20:08:18.171Z"
   },
   {
    "duration": 23,
    "start_time": "2024-07-31T20:08:20.970Z"
   },
   {
    "duration": 5,
    "start_time": "2024-07-31T20:08:22.130Z"
   },
   {
    "duration": 18,
    "start_time": "2024-07-31T20:08:22.814Z"
   },
   {
    "duration": 23,
    "start_time": "2024-07-31T20:08:23.387Z"
   },
   {
    "duration": 5,
    "start_time": "2024-07-31T20:08:25.251Z"
   },
   {
    "duration": 11,
    "start_time": "2024-07-31T20:08:25.698Z"
   },
   {
    "duration": 16,
    "start_time": "2024-07-31T20:08:26.236Z"
   },
   {
    "duration": 6,
    "start_time": "2024-07-31T20:08:26.710Z"
   },
   {
    "duration": 6,
    "start_time": "2024-07-31T20:08:27.232Z"
   },
   {
    "duration": 6,
    "start_time": "2024-07-31T20:08:28.670Z"
   },
   {
    "duration": 20,
    "start_time": "2024-07-31T20:08:29.123Z"
   },
   {
    "duration": 59,
    "start_time": "2024-07-31T20:08:29.879Z"
   },
   {
    "duration": 20,
    "start_time": "2024-07-31T20:08:31.730Z"
   },
   {
    "duration": 29,
    "start_time": "2024-07-31T20:08:32.355Z"
   },
   {
    "duration": 15,
    "start_time": "2024-07-31T20:08:32.976Z"
   },
   {
    "duration": 8,
    "start_time": "2024-07-31T20:08:33.609Z"
   },
   {
    "duration": 10,
    "start_time": "2024-07-31T20:08:34.484Z"
   },
   {
    "duration": 10,
    "start_time": "2024-07-31T20:08:35.267Z"
   },
   {
    "duration": 39,
    "start_time": "2024-07-31T20:08:36.005Z"
   },
   {
    "duration": 10,
    "start_time": "2024-07-31T20:08:37.112Z"
   },
   {
    "duration": 10,
    "start_time": "2024-07-31T20:08:37.844Z"
   },
   {
    "duration": 4,
    "start_time": "2024-07-31T20:08:38.509Z"
   },
   {
    "duration": 6,
    "start_time": "2024-07-31T20:08:40.130Z"
   },
   {
    "duration": 6,
    "start_time": "2024-07-31T20:08:40.715Z"
   },
   {
    "duration": 2846,
    "start_time": "2024-07-31T20:08:41.417Z"
   },
   {
    "duration": 3642,
    "start_time": "2024-07-31T20:08:44.266Z"
   },
   {
    "duration": 3033,
    "start_time": "2024-07-31T20:08:47.912Z"
   },
   {
    "duration": 784,
    "start_time": "2024-07-31T20:09:08.044Z"
   },
   {
    "duration": 4,
    "start_time": "2024-07-31T20:09:11.020Z"
   },
   {
    "duration": 40,
    "start_time": "2024-07-31T20:09:12.037Z"
   },
   {
    "duration": 32,
    "start_time": "2024-07-31T20:09:12.992Z"
   },
   {
    "duration": 2791,
    "start_time": "2024-07-31T20:09:14.128Z"
   },
   {
    "duration": 20,
    "start_time": "2024-07-31T20:09:18.938Z"
   },
   {
    "duration": 14,
    "start_time": "2024-07-31T20:09:20.661Z"
   },
   {
    "duration": 2454,
    "start_time": "2024-07-31T20:09:22.349Z"
   },
   {
    "duration": 28,
    "start_time": "2024-07-31T20:09:25.720Z"
   },
   {
    "duration": 15,
    "start_time": "2024-07-31T20:09:29.561Z"
   },
   {
    "duration": 11,
    "start_time": "2024-07-31T20:09:30.290Z"
   },
   {
    "duration": 5,
    "start_time": "2024-07-31T20:09:32.239Z"
   },
   {
    "duration": 9,
    "start_time": "2024-07-31T20:09:33.458Z"
   },
   {
    "duration": 29,
    "start_time": "2024-07-31T20:09:38.292Z"
   },
   {
    "duration": 4,
    "start_time": "2024-07-31T20:09:40.308Z"
   },
   {
    "duration": 4,
    "start_time": "2024-07-31T20:09:43.138Z"
   },
   {
    "duration": 5,
    "start_time": "2024-07-31T20:09:46.650Z"
   },
   {
    "duration": 0,
    "start_time": "2024-07-31T20:25:54.454Z"
   },
   {
    "duration": 0,
    "start_time": "2024-07-31T20:25:54.456Z"
   },
   {
    "duration": 0,
    "start_time": "2024-07-31T20:25:54.526Z"
   },
   {
    "duration": 0,
    "start_time": "2024-07-31T20:25:54.528Z"
   },
   {
    "duration": 0,
    "start_time": "2024-07-31T20:25:54.530Z"
   },
   {
    "duration": 0,
    "start_time": "2024-07-31T20:25:54.533Z"
   },
   {
    "duration": 0,
    "start_time": "2024-07-31T20:25:54.536Z"
   },
   {
    "duration": 0,
    "start_time": "2024-07-31T20:25:54.538Z"
   },
   {
    "duration": 0,
    "start_time": "2024-07-31T20:25:54.540Z"
   },
   {
    "duration": 0,
    "start_time": "2024-07-31T20:25:54.542Z"
   },
   {
    "duration": 0,
    "start_time": "2024-07-31T20:25:54.543Z"
   },
   {
    "duration": 0,
    "start_time": "2024-07-31T20:25:54.545Z"
   },
   {
    "duration": 0,
    "start_time": "2024-07-31T20:25:54.548Z"
   },
   {
    "duration": 0,
    "start_time": "2024-07-31T20:25:54.550Z"
   },
   {
    "duration": 0,
    "start_time": "2024-07-31T20:25:54.551Z"
   },
   {
    "duration": 0,
    "start_time": "2024-07-31T20:25:54.553Z"
   },
   {
    "duration": 0,
    "start_time": "2024-07-31T20:25:54.556Z"
   },
   {
    "duration": 0,
    "start_time": "2024-07-31T20:25:54.559Z"
   },
   {
    "duration": 0,
    "start_time": "2024-07-31T20:25:54.560Z"
   },
   {
    "duration": 0,
    "start_time": "2024-07-31T20:25:54.562Z"
   },
   {
    "duration": 0,
    "start_time": "2024-07-31T20:25:54.565Z"
   },
   {
    "duration": 0,
    "start_time": "2024-07-31T20:25:54.627Z"
   },
   {
    "duration": 0,
    "start_time": "2024-07-31T20:25:54.629Z"
   },
   {
    "duration": 0,
    "start_time": "2024-07-31T20:25:54.631Z"
   },
   {
    "duration": 0,
    "start_time": "2024-07-31T20:25:54.633Z"
   },
   {
    "duration": 0,
    "start_time": "2024-07-31T20:25:54.635Z"
   },
   {
    "duration": 0,
    "start_time": "2024-07-31T20:25:54.637Z"
   },
   {
    "duration": 0,
    "start_time": "2024-07-31T20:25:54.639Z"
   },
   {
    "duration": 0,
    "start_time": "2024-07-31T20:25:54.642Z"
   },
   {
    "duration": 0,
    "start_time": "2024-07-31T20:25:54.644Z"
   },
   {
    "duration": 0,
    "start_time": "2024-07-31T20:25:54.646Z"
   },
   {
    "duration": 0,
    "start_time": "2024-07-31T20:25:54.649Z"
   },
   {
    "duration": 0,
    "start_time": "2024-07-31T20:25:54.651Z"
   },
   {
    "duration": 0,
    "start_time": "2024-07-31T20:25:54.653Z"
   },
   {
    "duration": 1,
    "start_time": "2024-07-31T20:25:54.655Z"
   },
   {
    "duration": 0,
    "start_time": "2024-07-31T20:25:54.658Z"
   },
   {
    "duration": 0,
    "start_time": "2024-07-31T20:25:54.660Z"
   },
   {
    "duration": 0,
    "start_time": "2024-07-31T20:25:54.661Z"
   },
   {
    "duration": 0,
    "start_time": "2024-07-31T20:25:54.664Z"
   },
   {
    "duration": 0,
    "start_time": "2024-07-31T20:25:54.726Z"
   },
   {
    "duration": 0,
    "start_time": "2024-07-31T20:25:54.729Z"
   },
   {
    "duration": 0,
    "start_time": "2024-07-31T20:25:54.731Z"
   },
   {
    "duration": 0,
    "start_time": "2024-07-31T20:25:54.733Z"
   },
   {
    "duration": 0,
    "start_time": "2024-07-31T20:25:54.735Z"
   },
   {
    "duration": 0,
    "start_time": "2024-07-31T20:25:54.736Z"
   },
   {
    "duration": 6,
    "start_time": "2024-07-31T20:26:03.486Z"
   },
   {
    "duration": 722,
    "start_time": "2024-07-31T20:26:04.588Z"
   },
   {
    "duration": 22,
    "start_time": "2024-07-31T20:26:06.140Z"
   },
   {
    "duration": 6,
    "start_time": "2024-07-31T20:26:06.681Z"
   },
   {
    "duration": 19,
    "start_time": "2024-07-31T20:26:07.197Z"
   },
   {
    "duration": 23,
    "start_time": "2024-07-31T20:26:07.418Z"
   },
   {
    "duration": 4,
    "start_time": "2024-07-31T20:26:08.684Z"
   },
   {
    "duration": 12,
    "start_time": "2024-07-31T20:26:08.832Z"
   },
   {
    "duration": 14,
    "start_time": "2024-07-31T20:26:09.017Z"
   },
   {
    "duration": 5,
    "start_time": "2024-07-31T20:26:09.212Z"
   },
   {
    "duration": 7,
    "start_time": "2024-07-31T20:26:09.397Z"
   },
   {
    "duration": 6,
    "start_time": "2024-07-31T20:26:10.050Z"
   },
   {
    "duration": 17,
    "start_time": "2024-07-31T20:26:10.235Z"
   },
   {
    "duration": 39,
    "start_time": "2024-07-31T20:26:10.412Z"
   },
   {
    "duration": 21,
    "start_time": "2024-07-31T20:26:10.979Z"
   },
   {
    "duration": 29,
    "start_time": "2024-07-31T20:26:11.184Z"
   },
   {
    "duration": 11,
    "start_time": "2024-07-31T20:26:11.369Z"
   },
   {
    "duration": 9,
    "start_time": "2024-07-31T20:26:11.545Z"
   },
   {
    "duration": 11,
    "start_time": "2024-07-31T20:26:11.715Z"
   },
   {
    "duration": 9,
    "start_time": "2024-07-31T20:26:11.909Z"
   },
   {
    "duration": 40,
    "start_time": "2024-07-31T20:26:12.106Z"
   },
   {
    "duration": 10,
    "start_time": "2024-07-31T20:26:12.322Z"
   },
   {
    "duration": 9,
    "start_time": "2024-07-31T20:26:12.492Z"
   },
   {
    "duration": 4,
    "start_time": "2024-07-31T20:26:12.692Z"
   },
   {
    "duration": 6,
    "start_time": "2024-07-31T20:26:13.877Z"
   },
   {
    "duration": 6,
    "start_time": "2024-07-31T20:26:14.400Z"
   },
   {
    "duration": 2821,
    "start_time": "2024-07-31T20:26:14.939Z"
   },
   {
    "duration": 3668,
    "start_time": "2024-07-31T20:26:17.764Z"
   },
   {
    "duration": 3080,
    "start_time": "2024-07-31T20:26:21.435Z"
   },
   {
    "duration": 813,
    "start_time": "2024-07-31T20:26:24.525Z"
   },
   {
    "duration": 6,
    "start_time": "2024-07-31T20:26:25.341Z"
   },
   {
    "duration": 44,
    "start_time": "2024-07-31T20:26:25.350Z"
   },
   {
    "duration": 32,
    "start_time": "2024-07-31T20:26:25.425Z"
   },
   {
    "duration": 2968,
    "start_time": "2024-07-31T20:26:25.461Z"
   },
   {
    "duration": 20,
    "start_time": "2024-07-31T20:26:28.437Z"
   },
   {
    "duration": 15,
    "start_time": "2024-07-31T20:26:28.460Z"
   },
   {
    "duration": 2532,
    "start_time": "2024-07-31T20:26:28.477Z"
   },
   {
    "duration": 36,
    "start_time": "2024-07-31T20:26:31.013Z"
   },
   {
    "duration": 15,
    "start_time": "2024-07-31T20:26:31.052Z"
   },
   {
    "duration": 11,
    "start_time": "2024-07-31T20:26:31.070Z"
   },
   {
    "duration": 42,
    "start_time": "2024-07-31T20:26:31.084Z"
   },
   {
    "duration": 9,
    "start_time": "2024-07-31T20:26:31.128Z"
   },
   {
    "duration": 30,
    "start_time": "2024-07-31T20:26:31.140Z"
   },
   {
    "duration": 4,
    "start_time": "2024-07-31T20:26:31.174Z"
   },
   {
    "duration": 8,
    "start_time": "2024-07-31T20:26:31.181Z"
   },
   {
    "duration": 5,
    "start_time": "2024-07-31T20:26:31.227Z"
   },
   {
    "duration": 8,
    "start_time": "2024-07-31T20:32:00.163Z"
   },
   {
    "duration": 188476,
    "start_time": "2024-07-31T20:32:06.694Z"
   },
   {
    "duration": 959029,
    "start_time": "2024-07-31T20:35:33.801Z"
   },
   {
    "duration": 250677,
    "start_time": "2024-07-31T20:52:07.718Z"
   },
   {
    "duration": 8287,
    "start_time": "2024-07-31T21:02:04.719Z"
   },
   {
    "duration": 19,
    "start_time": "2024-07-31T21:02:13.009Z"
   },
   {
    "duration": 5,
    "start_time": "2024-07-31T21:03:27.397Z"
   },
   {
    "duration": 7,
    "start_time": "2024-07-31T21:03:28.595Z"
   },
   {
    "duration": 8,
    "start_time": "2024-07-31T21:03:30.080Z"
   },
   {
    "duration": 7,
    "start_time": "2024-07-31T21:08:34.727Z"
   },
   {
    "duration": 5,
    "start_time": "2024-07-31T21:08:39.937Z"
   },
   {
    "duration": 5,
    "start_time": "2024-07-31T21:08:56.251Z"
   },
   {
    "duration": 7,
    "start_time": "2024-07-31T21:09:08.292Z"
   },
   {
    "duration": 5113,
    "start_time": "2024-07-31T23:06:09.456Z"
   },
   {
    "duration": 964,
    "start_time": "2024-07-31T23:06:14.574Z"
   },
   {
    "duration": 24,
    "start_time": "2024-07-31T23:06:21.769Z"
   },
   {
    "duration": 5,
    "start_time": "2024-07-31T23:06:30.944Z"
   },
   {
    "duration": 17,
    "start_time": "2024-07-31T23:06:31.522Z"
   },
   {
    "duration": 24,
    "start_time": "2024-07-31T23:06:31.898Z"
   },
   {
    "duration": 6,
    "start_time": "2024-07-31T23:06:43.197Z"
   },
   {
    "duration": 11,
    "start_time": "2024-07-31T23:06:46.962Z"
   },
   {
    "duration": 20,
    "start_time": "2024-07-31T23:06:48.103Z"
   },
   {
    "duration": 701,
    "start_time": "2024-07-31T23:07:05.065Z"
   },
   {
    "duration": 6,
    "start_time": "2024-07-31T23:07:09.499Z"
   },
   {
    "duration": 8,
    "start_time": "2024-07-31T23:07:10.271Z"
   },
   {
    "duration": 5,
    "start_time": "2024-07-31T23:07:17.982Z"
   },
   {
    "duration": 16,
    "start_time": "2024-07-31T23:07:19.869Z"
   },
   {
    "duration": 40,
    "start_time": "2024-07-31T23:07:20.682Z"
   },
   {
    "duration": 18,
    "start_time": "2024-07-31T23:07:23.035Z"
   },
   {
    "duration": 27,
    "start_time": "2024-07-31T23:07:23.517Z"
   },
   {
    "duration": 11,
    "start_time": "2024-07-31T23:07:24.540Z"
   },
   {
    "duration": 10,
    "start_time": "2024-07-31T23:07:25.260Z"
   },
   {
    "duration": 10,
    "start_time": "2024-07-31T23:07:25.597Z"
   },
   {
    "duration": 10,
    "start_time": "2024-07-31T23:07:26.160Z"
   },
   {
    "duration": 41,
    "start_time": "2024-07-31T23:07:27.130Z"
   },
   {
    "duration": 9,
    "start_time": "2024-07-31T23:10:57.707Z"
   },
   {
    "duration": 10,
    "start_time": "2024-07-31T23:11:05.862Z"
   },
   {
    "duration": 11,
    "start_time": "2024-07-31T23:11:07.342Z"
   },
   {
    "duration": 5,
    "start_time": "2024-07-31T23:11:08.062Z"
   },
   {
    "duration": 6,
    "start_time": "2024-07-31T23:11:11.243Z"
   },
   {
    "duration": 6,
    "start_time": "2024-07-31T23:11:11.921Z"
   },
   {
    "duration": 2903,
    "start_time": "2024-07-31T23:11:12.475Z"
   },
   {
    "duration": 3551,
    "start_time": "2024-07-31T23:11:15.381Z"
   },
   {
    "duration": 3020,
    "start_time": "2024-07-31T23:11:18.936Z"
   },
   {
    "duration": 985,
    "start_time": "2024-07-31T23:11:21.959Z"
   },
   {
    "duration": 4,
    "start_time": "2024-07-31T23:11:24.940Z"
   },
   {
    "duration": 44,
    "start_time": "2024-07-31T23:11:25.521Z"
   },
   {
    "duration": 39,
    "start_time": "2024-07-31T23:11:26.058Z"
   },
   {
    "duration": 2744,
    "start_time": "2024-07-31T23:11:27.520Z"
   },
   {
    "duration": 19,
    "start_time": "2024-07-31T23:11:32.155Z"
   },
   {
    "duration": 14,
    "start_time": "2024-07-31T23:11:33.877Z"
   },
   {
    "duration": 2347,
    "start_time": "2024-07-31T23:11:34.943Z"
   },
   {
    "duration": 28,
    "start_time": "2024-07-31T23:11:38.206Z"
   },
   {
    "duration": 19,
    "start_time": "2024-07-31T23:11:40.055Z"
   },
   {
    "duration": 12,
    "start_time": "2024-07-31T23:11:41.341Z"
   },
   {
    "duration": 6,
    "start_time": "2024-07-31T23:11:43.481Z"
   },
   {
    "duration": 10,
    "start_time": "2024-07-31T23:11:44.180Z"
   },
   {
    "duration": 42,
    "start_time": "2024-07-31T23:11:44.739Z"
   },
   {
    "duration": 4,
    "start_time": "2024-07-31T23:11:45.311Z"
   },
   {
    "duration": 4,
    "start_time": "2024-07-31T23:11:46.098Z"
   },
   {
    "duration": 4,
    "start_time": "2024-07-31T23:11:47.180Z"
   },
   {
    "duration": 960666,
    "start_time": "2024-07-31T23:11:48.367Z"
   },
   {
    "duration": 249305,
    "start_time": "2024-07-31T23:28:12.467Z"
   },
   {
    "duration": 8296,
    "start_time": "2024-07-31T23:36:09.483Z"
   },
   {
    "duration": 9,
    "start_time": "2024-07-31T23:36:17.782Z"
   },
   {
    "duration": 6,
    "start_time": "2024-07-31T23:36:25.704Z"
   },
   {
    "duration": 6,
    "start_time": "2024-07-31T23:36:26.154Z"
   },
   {
    "duration": 8,
    "start_time": "2024-07-31T23:36:26.834Z"
   },
   {
    "duration": 967,
    "start_time": "2024-07-31T23:48:29.959Z"
   },
   {
    "duration": 81,
    "start_time": "2024-07-31T23:48:58.890Z"
   },
   {
    "duration": 422,
    "start_time": "2024-07-31T23:48:59.323Z"
   },
   {
    "duration": 5,
    "start_time": "2024-07-31T23:49:06.531Z"
   },
   {
    "duration": 757,
    "start_time": "2024-07-31T23:49:06.939Z"
   },
   {
    "duration": 24,
    "start_time": "2024-07-31T23:49:07.852Z"
   },
   {
    "duration": 4,
    "start_time": "2024-07-31T23:49:08.465Z"
   },
   {
    "duration": 18,
    "start_time": "2024-07-31T23:49:08.912Z"
   },
   {
    "duration": 25,
    "start_time": "2024-07-31T23:49:09.399Z"
   },
   {
    "duration": 5,
    "start_time": "2024-07-31T23:49:11.336Z"
   },
   {
    "duration": 12,
    "start_time": "2024-07-31T23:49:13.633Z"
   },
   {
    "duration": 18,
    "start_time": "2024-07-31T23:49:15.413Z"
   },
   {
    "duration": 6,
    "start_time": "2024-07-31T23:49:16.707Z"
   },
   {
    "duration": 7,
    "start_time": "2024-07-31T23:49:17.954Z"
   },
   {
    "duration": 5,
    "start_time": "2024-07-31T23:49:23.755Z"
   },
   {
    "duration": 16,
    "start_time": "2024-07-31T23:49:24.166Z"
   },
   {
    "duration": 40,
    "start_time": "2024-07-31T23:49:24.718Z"
   },
   {
    "duration": 19,
    "start_time": "2024-07-31T23:49:26.168Z"
   },
   {
    "duration": 27,
    "start_time": "2024-07-31T23:49:26.619Z"
   },
   {
    "duration": 12,
    "start_time": "2024-07-31T23:49:27.170Z"
   },
   {
    "duration": 8,
    "start_time": "2024-07-31T23:49:27.715Z"
   },
   {
    "duration": 11,
    "start_time": "2024-07-31T23:49:28.654Z"
   },
   {
    "duration": 10,
    "start_time": "2024-07-31T23:49:29.298Z"
   },
   {
    "duration": 9,
    "start_time": "2024-07-31T23:49:30.250Z"
   },
   {
    "duration": 10,
    "start_time": "2024-07-31T23:49:33.243Z"
   },
   {
    "duration": 12,
    "start_time": "2024-07-31T23:49:33.810Z"
   },
   {
    "duration": 6,
    "start_time": "2024-07-31T23:49:34.359Z"
   },
   {
    "duration": 6,
    "start_time": "2024-07-31T23:49:35.995Z"
   },
   {
    "duration": 6,
    "start_time": "2024-07-31T23:49:36.527Z"
   },
   {
    "duration": 2991,
    "start_time": "2024-07-31T23:49:37.234Z"
   },
   {
    "duration": 3602,
    "start_time": "2024-07-31T23:49:40.230Z"
   },
   {
    "duration": 3059,
    "start_time": "2024-07-31T23:49:43.835Z"
   },
   {
    "duration": 827,
    "start_time": "2024-07-31T23:49:46.898Z"
   },
   {
    "duration": 4,
    "start_time": "2024-07-31T23:49:47.728Z"
   },
   {
    "duration": 43,
    "start_time": "2024-07-31T23:49:47.735Z"
   },
   {
    "duration": 60,
    "start_time": "2024-07-31T23:49:47.781Z"
   },
   {
    "duration": 3096,
    "start_time": "2024-07-31T23:49:47.845Z"
   },
   {
    "duration": 20,
    "start_time": "2024-07-31T23:49:50.943Z"
   },
   {
    "duration": 14,
    "start_time": "2024-07-31T23:49:51.667Z"
   },
   {
    "duration": 2435,
    "start_time": "2024-07-31T23:49:52.413Z"
   },
   {
    "duration": 30,
    "start_time": "2024-07-31T23:49:54.851Z"
   },
   {
    "duration": 14,
    "start_time": "2024-07-31T23:49:55.839Z"
   },
   {
    "duration": 11,
    "start_time": "2024-07-31T23:49:56.713Z"
   },
   {
    "duration": 4,
    "start_time": "2024-07-31T23:49:59.015Z"
   },
   {
    "duration": 9,
    "start_time": "2024-07-31T23:49:59.969Z"
   },
   {
    "duration": 29,
    "start_time": "2024-07-31T23:50:02.121Z"
   },
   {
    "duration": 4,
    "start_time": "2024-07-31T23:50:19.373Z"
   },
   {
    "duration": 6,
    "start_time": "2024-07-31T23:50:20.402Z"
   },
   {
    "duration": 5,
    "start_time": "2024-07-31T23:50:21.357Z"
   },
   {
    "duration": 5,
    "start_time": "2024-07-31T23:50:35.543Z"
   },
   {
    "duration": 817245,
    "start_time": "2024-07-31T23:50:37.184Z"
   },
   {
    "duration": 246802,
    "start_time": "2024-08-01T00:05:08.652Z"
   },
   {
    "duration": 8090,
    "start_time": "2024-08-01T00:11:50.379Z"
   },
   {
    "duration": 9,
    "start_time": "2024-08-01T00:11:58.473Z"
   },
   {
    "duration": 6,
    "start_time": "2024-08-01T00:11:58.485Z"
   },
   {
    "duration": 30,
    "start_time": "2024-08-01T00:11:58.496Z"
   },
   {
    "duration": 8,
    "start_time": "2024-08-01T00:13:12.184Z"
   }
  ],
  "kernelspec": {
   "display_name": "Python 3 (ipykernel)",
   "language": "python",
   "name": "python3"
  },
  "language_info": {
   "codemirror_mode": {
    "name": "ipython",
    "version": 3
   },
   "file_extension": ".py",
   "mimetype": "text/x-python",
   "name": "python",
   "nbconvert_exporter": "python",
   "pygments_lexer": "ipython3",
   "version": "3.9.19"
  },
  "toc": {
   "base_numbering": 1,
   "nav_menu": {},
   "number_sections": true,
   "sideBar": true,
   "skip_h1_title": true,
   "title_cell": "Table of Contents",
   "title_sidebar": "Contents",
   "toc_cell": false,
   "toc_position": {},
   "toc_section_display": true,
   "toc_window_display": false
  }
 },
 "nbformat": 4,
 "nbformat_minor": 2
}
